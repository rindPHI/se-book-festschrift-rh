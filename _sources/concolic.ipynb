{
 "cells": [
  {
   "cell_type": "markdown",
   "metadata": {},
   "source": [
    "(techniques:concolic_execution)=\n",
    "# Concolic Execution"
   ]
  },
  {
   "cell_type": "markdown",
   "metadata": {},
   "source": [
    "```{admonition} TODO\n",
    "Write text.\n",
    "```"
   ]
  },
  {
   "cell_type": "code",
   "execution_count": 1,
   "metadata": {},
   "outputs": [],
   "source": [
    "import utils\n",
    "from symbolic_interpreter import *\n",
    "from compositional import *"
   ]
  },
  {
   "cell_type": "code",
   "execution_count": 2,
   "metadata": {},
   "outputs": [],
   "source": [
    "class ConcolicInterpreter(SymbolicInterpreter):\n",
    "    def __init__(\n",
    "            self, concrete_store: Store,\n",
    "            predicates: Optional[Dict[str, Tuple[Tuple[z3.SortRef, ...], z3.SortRef, Callable]]] = None):\n",
    "        super().__init__(predicates=predicates)\n",
    "        self.concrete_store = concrete_store\n",
    "        self.subst_map: Dict[z3.ExprRef, z3.ExprRef] = {\n",
    "            variable.to_z3(): python_expr_to_z3_expr(self.concrete_store.env[variable])\n",
    "            for variable in self.concrete_store.env}\n",
    "\n",
    "    def constraint_satisfied(self, constraint: z3.BoolRef) -> bool:\n",
    "        return is_unsat(z3.Not(subst(constraint, self.subst_map)))\n",
    "\n",
    "    def execute_try_stmt(self, stmt: TryStmt, environment: SymbolicEnvironment) -> SET:\n",
    "        tree = self.execute(stmt.block, environment)\n",
    "        result = (SETNode(environment, stmt.code), [tree])\n",
    "\n",
    "        for leaf in get_leaves(tree):\n",
    "            node, _ = leaf\n",
    "            exc = node.environment.abrupt_completion\n",
    "            if exc is None or isinstance(exc, AbruptCompletionNoException):\n",
    "                continue\n",
    "\n",
    "            if stmt.exc_type is not None:\n",
    "                caught_exc_type = getattr(sys.modules[\"builtins\"], stmt.exc_type)\n",
    "                if isinstance(exc, caught_exc_type):\n",
    "                    catch_block_tree = self.execute(stmt.except_block,\n",
    "                                                    node.environment.set_abrupt_completion(None))\n",
    "                    result = replace_in_tree(result, leaf, catch_block_tree)\n",
    "            else:\n",
    "                catch_block_tree = self.execute(stmt.block, node.environment.set_abrupt_completion(None))\n",
    "                result = replace_in_tree(result, leaf, catch_block_tree)\n",
    "\n",
    "        return result\n",
    "\n",
    "    def execute_if_stmt(self, stmt: IfStmt, environment: SymbolicEnvironment) -> SET:\n",
    "        eval_expr_result = self.evaluate(stmt.guard, environment)\n",
    "\n",
    "        result: SET = (SETNode(environment, stmt.code), [])\n",
    "\n",
    "        for value, constraint in eval_expr_result:\n",
    "            if isinstance(value, Exception):\n",
    "                exc_node = SETNode(environment.add_constraint(constraint).set_abrupt_completion(value), '')\n",
    "                if exc_node.environment.concretize(self.concrete_store) is not None:\n",
    "                    result[1].append((exc_node, []))\n",
    "                continue\n",
    "\n",
    "            assert z3.is_bool(value)\n",
    "\n",
    "            then_constraint: z3.BoolRef = z3.simplify(value)\n",
    "            then_env = environment.add_constraint(constraint).add_constraint(then_constraint)\n",
    "\n",
    "            if then_env.concretize(self.concrete_store) is not None:\n",
    "                subtree = self.execute_block(stmt.then_block, then_env)\n",
    "                result[1].append(subtree)\n",
    "\n",
    "            else_constraint = z3.simplify(z3.Not(value))\n",
    "            else_env = environment.add_constraint(constraint).add_constraint(else_constraint)\n",
    "\n",
    "            if else_env.concretize(self.concrete_store) is not None:\n",
    "                if stmt.else_block is not None:\n",
    "                    subtree = self.execute_block(stmt.else_block, else_env)\n",
    "                    result[1].append(subtree)\n",
    "                else:\n",
    "                    result[1].append((SETNode(else_env, ''), []))\n",
    "\n",
    "        return result\n",
    "\n",
    "    def execute_while_stmt(self, stmt: WhileStmt, environment: SymbolicEnvironment,\n",
    "                           loop_unrolling_threshold: Optional[int] = None) -> SET:\n",
    "        eval_guard_res = self.evaluate(stmt.guard, environment)\n",
    "        result = (SETNode(environment, stmt.code), [])\n",
    "\n",
    "        for value, constraint in eval_guard_res:\n",
    "            if isinstance(value, Exception):\n",
    "                exc_node = SETNode(environment.add_constraint(constraint).set_abrupt_completion(value), '')\n",
    "                if exc_node.environment.concretize(self.concrete_store) is not None:\n",
    "                    result[1].append((exc_node, []))\n",
    "                continue\n",
    "\n",
    "            then_constraint: z3.BoolRef = z3.simplify(value)\n",
    "            then_env = environment.add_constraint(constraint).add_constraint(then_constraint)\n",
    "\n",
    "            if then_env.concretize(self.concrete_store) is not None:\n",
    "                subtree = self.execute_block(stmt.body, then_env)\n",
    "                result[1].append(subtree)\n",
    "                for leaf in get_leaves(subtree):\n",
    "                    node, _ = leaf\n",
    "                    env = node.environment\n",
    "                    exc = env.abrupt_completion\n",
    "                    if exc is not None:\n",
    "                        if isinstance(exc, Continue):\n",
    "                            env = env.set_abrupt_completion(None)\n",
    "                        elif isinstance(exc, Break):\n",
    "                            env = env.set_abrupt_completion(None)\n",
    "                            result = replace_in_tree(\n",
    "                                result, leaf, (SETNode(env, ''), []))\n",
    "                            continue\n",
    "                        else:\n",
    "                            continue\n",
    "\n",
    "                    while_tree = self.execute_while_stmt(stmt, env)\n",
    "                    result = replace_in_tree(result, leaf, while_tree)\n",
    "                    continue\n",
    "\n",
    "            else_constraint: z3.BoolRef = z3.simplify(z3.Not(value))\n",
    "            else_env = environment.add_constraint(constraint).add_constraint(else_constraint)\n",
    "\n",
    "            if else_env.concretize(self.concrete_store) is not None:\n",
    "                if stmt.else_block is not None:\n",
    "                    subtree = self.execute_block(stmt.else_block, else_env)\n",
    "                    result[1].append((SETNode(else_env, 'else:'), [subtree]))\n",
    "                else:\n",
    "                    result[1].append((SETNode(else_env, ''), []))\n",
    "\n",
    "        return result\n",
    "    \n",
    "    def execute_assert_stmt(self, stmt: Assert, environment: SymbolicEnvironment) -> SET:\n",
    "        eval_expr_result = self.evaluate(stmt.expression, environment)\n",
    "\n",
    "        children: List[SET] = []\n",
    "        result = (SETNode(environment, stmt.code), children)\n",
    "\n",
    "        for value, constraint in eval_expr_result:\n",
    "            new_env = environment.add_constraint(constraint)\n",
    "            if new_env.unsatisfiable():\n",
    "                continue\n",
    "\n",
    "            if isinstance(value, Exception):\n",
    "                children.append((SETNode(new_env.set_abrupt_completion(value), ''), []))\n",
    "                continue\n",
    "\n",
    "            assert isinstance(value, z3.BoolRef)\n",
    "            sat_env = new_env.add_constraint(value)\n",
    "            viol_env = new_env.add_constraint(z3.Not(value))\n",
    "\n",
    "            sat_env_unsat = sat_env.concretize(self.concrete_store) is None\n",
    "            viol_env_unsat = viol_env.concretize(self.concrete_store) is None\n",
    "\n",
    "            if sat_env_unsat:\n",
    "                children.append((SETNode(environment.set_abrupt_completion(AssertionError()), ''), []))\n",
    "            elif viol_env_unsat:\n",
    "                children.append((SETNode(environment, ''), []))\n",
    "            else:\n",
    "                children.append((SETNode(sat_env, ''), []))\n",
    "                children.append((SETNode(viol_env.set_abrupt_completion(AssertionError()), ''), []))\n",
    "\n",
    "        return result\n",
    "\n",
    "    def execute_assignment(self, stmt: Assignment, environment: SymbolicEnvironment) -> SET:\n",
    "        eval_expr_result = [\n",
    "            (value, constraint)\n",
    "            for value, constraint in self.evaluate(stmt.expression, environment)\n",
    "            if not environment.add_constraint(constraint).unsatisfiable()\n",
    "        ]\n",
    "\n",
    "        children: List[SET] = []\n",
    "        result = (SETNode(environment, stmt.code), children)\n",
    "\n",
    "        for value, constraint in eval_expr_result:\n",
    "            if isinstance(value, Exception):\n",
    "                new_env = environment.set_abrupt_completion(value)\n",
    "            else:\n",
    "                variable = Variable(stmt.lhs, get_type_for_z3_expr(value))\n",
    "                new_env = environment.set(variable, value)\n",
    "\n",
    "            # if len(eval_expr_result) > 1:  # <-- To collect all potentially relevant constraints\n",
    "            new_env = new_env.add_constraint(constraint)\n",
    "\n",
    "            children.append((SETNode(new_env, None), []))\n",
    "\n",
    "        return result\n",
    "    \n",
    "    def evaluate(self, expr: Expression, environment: SymbolicEnvironment) -> EvalExprResult:\n",
    "        t = type(expr)\n",
    "        if t in self.expr_interpretations:\n",
    "            result = [(value if isinstance(value, Exception) else z3.simplify(value), z3.simplify(constraint)) for\n",
    "                      value, constraint in self.expr_interpretations[t](expr, environment) if\n",
    "                      self.constraint_satisfied(constraint)]\n",
    "            assert len(result) == 1\n",
    "            return result\n",
    "\n",
    "        assert False"
   ]
  },
  {
   "cell_type": "code",
   "execution_count": 3,
   "metadata": {
    "tags": [
     "minipy"
    ]
   },
   "outputs": [],
   "source": [
    "def insertion_point(x: int, t: tuple) -> int:\n",
    "    # assume Sorted(t)\n",
    "    i = 0\n",
    "    while i < len(t):\n",
    "        if t[i] >= x:\n",
    "            break\n",
    "\n",
    "        i = i + 1\n",
    "\n",
    "    assert PostInsertionPoint(x, t, i)\n",
    "    return i"
   ]
  },
  {
   "cell_type": "code",
   "execution_count": 4,
   "metadata": {},
   "outputs": [
    {
     "data": {
      "text/html": [
       "0&nbsp;&le;&nbsp;result&nbsp;&and;<BR/>result&nbsp;&le;&nbsp;Length(t)&nbsp;&and;<BR/>(&forall;k&nbsp;:&nbsp;0&nbsp;&le;&nbsp;k&nbsp;&and;&nbsp;k&nbsp;&lt;&nbsp;result&nbsp;&rArr;&nbsp;Nth(t,&nbsp;k)&nbsp;&lt;&nbsp;x)&nbsp;&and;<BR/>(&forall;k&nbsp;:&nbsp;k&nbsp;&ge;&nbsp;result&nbsp;&and;&nbsp;k&nbsp;&lt;&nbsp;Length(t)&nbsp;&rArr;&nbsp;Nth(t,&nbsp;k)&nbsp;&ge;&nbsp;x)"
      ],
      "text/plain": [
       "<IPython.core.display.HTML object>"
      ]
     },
     "metadata": {},
     "output_type": "display_data"
    }
   ],
   "source": [
    "kv = z3.Int(\"k\")\n",
    "\n",
    "post_insertion_point = (\n",
    "    lambda xv, tv, resultv:\n",
    "    z3.And(                \n",
    "        z3.IntVal(0) <= resultv,\n",
    "        resultv <= z3.Length(tv),\n",
    "        z3.ForAll(\n",
    "            [kv],\n",
    "            z3.Implies(\n",
    "                z3.And(\n",
    "                    kv >= z3.IntVal(0),\n",
    "                    kv < resultv),\n",
    "                tv[kv] < xv\n",
    "            )\n",
    "        ),\n",
    "        z3.ForAll(\n",
    "            [kv],\n",
    "            z3.Implies(\n",
    "                z3.And(\n",
    "                    kv >= resultv,\n",
    "                    kv < z3.Length(tv)),\n",
    "                tv[kv] >= xv\n",
    "            )\n",
    "        )))\n",
    "\n",
    "display_formula(post_insertion_point(z3.Int(\"x\"), z3_sequence(\"t\"), z3.Int(\"result\")))"
   ]
  },
  {
   "cell_type": "code",
   "execution_count": 5,
   "metadata": {},
   "outputs": [],
   "source": [
    "import inspect"
   ]
  },
  {
   "cell_type": "code",
   "execution_count": 6,
   "metadata": {},
   "outputs": [
    {
     "data": {
      "text/markdown": [
       "```python\n",
       "def insertion_point(x: int, t: tuple) -> int:\n",
       "    # assume Sorted(t)\n",
       "    i = 0\n",
       "    while i < len(t):\n",
       "        if t[i] >= x:\n",
       "            break\n",
       "\n",
       "        i = i + 1\n",
       "\n",
       "    assert PostInsertionPoint(x, t, i)\n",
       "    return i\n",
       "```"
      ],
      "text/plain": [
       "<IPython.core.display.Markdown object>"
      ]
     },
     "metadata": {},
     "output_type": "display_data"
    }
   ],
   "source": [
    "insertion_point_code = \"\".join(inspect.getsourcelines(insertion_point)[0]).strip()\n",
    "insertion_point_program = parse(insertion_point_code)\n",
    "display_program(insertion_point_code)"
   ]
  },
  {
   "cell_type": "code",
   "execution_count": 7,
   "metadata": {},
   "outputs": [
    {
     "data": {
      "text/plain": [
       "Store({Variable('x', Type('int')): 1, Variable('t', Type('tuple')): (13,)})"
      ]
     },
     "execution_count": 7,
     "metadata": {},
     "output_type": "execute_result"
    }
   ],
   "source": [
    "x = Variable(\"x\", INT_TYPE)\n",
    "t = Variable(\"t\", TUPLE_TYPE)\n",
    "\n",
    "initial_store = Store({x: 1, t: (13,)})\n",
    "initial_store"
   ]
  },
  {
   "cell_type": "code",
   "execution_count": 8,
   "metadata": {},
   "outputs": [
    {
     "data": {
      "image/svg+xml": [
       "<?xml version=\"1.0\" encoding=\"UTF-8\" standalone=\"no\"?>\n",
       "<!DOCTYPE svg PUBLIC \"-//W3C//DTD SVG 1.1//EN\"\n",
       " \"http://www.w3.org/Graphics/SVG/1.1/DTD/svg11.dtd\">\n",
       "<!-- Generated by graphviz version 2.43.0 (0)\n",
       " -->\n",
       "<!-- Title: %3 Pages: 1 -->\n",
       "<svg width=\"814pt\" height=\"572pt\"\n",
       " viewBox=\"0.00 0.00 814.00 572.00\" xmlns=\"http://www.w3.org/2000/svg\" xmlns:xlink=\"http://www.w3.org/1999/xlink\">\n",
       "<g id=\"graph0\" class=\"graph\" transform=\"scale(1 1) rotate(0) translate(4 568)\">\n",
       "<title>%3</title>\n",
       "<polygon fill=\"white\" stroke=\"transparent\" points=\"-4,4 -4,-568 810,-568 810,4 -4,4\"/>\n",
       "<!-- 0 -->\n",
       "<g id=\"node1\" class=\"node\">\n",
       "<title>0</title>\n",
       "<polygon fill=\"none\" stroke=\"black\" points=\"494,-564 312,-564 312,-512 494,-512 494,-564\"/>\n",
       "<text text-anchor=\"start\" x=\"324\" y=\"-544.8\" font-family=\"Times,serif\" font-size=\"14.00\">({}, None, {x: x, t: t})</text>\n",
       "<text text-anchor=\"start\" x=\"382\" y=\"-523.8\" font-family=\"Courier,monospace\" font-size=\"14.00\">i = 0</text>\n",
       "</g>\n",
       "<!-- 1 -->\n",
       "<g id=\"node2\" class=\"node\">\n",
       "<title>1</title>\n",
       "<polygon fill=\"none\" stroke=\"black\" points=\"510,-476 296,-476 296,-424 510,-424 510,-476\"/>\n",
       "<text text-anchor=\"start\" x=\"308\" y=\"-456.8\" font-family=\"Times,serif\" font-size=\"14.00\">({}, None, {x: x, t: t, i: 0})</text>\n",
       "<text text-anchor=\"start\" x=\"324.5\" y=\"-435.8\" font-family=\"Courier,monospace\" font-size=\"14.00\">while (i &lt; len(t)):</text>\n",
       "</g>\n",
       "<!-- 0&#45;&gt;1 -->\n",
       "<g id=\"edge1\" class=\"edge\">\n",
       "<title>0&#45;&gt;1</title>\n",
       "<path fill=\"none\" stroke=\"black\" d=\"M403,-511.66C403,-503.7 403,-494.76 403,-486.24\"/>\n",
       "<polygon fill=\"black\" stroke=\"black\" points=\"406.5,-486.16 403,-476.16 399.5,-486.16 406.5,-486.16\"/>\n",
       "</g>\n",
       "<!-- 2 -->\n",
       "<g id=\"node3\" class=\"node\">\n",
       "<title>2</title>\n",
       "<polygon fill=\"none\" stroke=\"black\" points=\"569.5,-388 236.5,-388 236.5,-336 569.5,-336 569.5,-388\"/>\n",
       "<text text-anchor=\"start\" x=\"249\" y=\"-368.8\" font-family=\"Times,serif\" font-size=\"14.00\">({¬(Length(t) ≤ 0)}, None, {x: x, t: t, i: 0})</text>\n",
       "<text text-anchor=\"start\" x=\"341.5\" y=\"-347.8\" font-family=\"Courier,monospace\" font-size=\"14.00\">if (t[i] &gt;= x):</text>\n",
       "</g>\n",
       "<!-- 1&#45;&gt;2 -->\n",
       "<g id=\"edge2\" class=\"edge\">\n",
       "<title>1&#45;&gt;2</title>\n",
       "<path fill=\"none\" stroke=\"black\" d=\"M403,-423.66C403,-415.7 403,-406.76 403,-398.24\"/>\n",
       "<polygon fill=\"black\" stroke=\"black\" points=\"406.5,-398.16 403,-388.16 399.5,-398.16 406.5,-398.16\"/>\n",
       "</g>\n",
       "<!-- 3 -->\n",
       "<g id=\"node4\" class=\"node\">\n",
       "<title>3</title>\n",
       "<polygon fill=\"none\" stroke=\"black\" points=\"757.5,-300 48.5,-300 48.5,-248 757.5,-248 757.5,-300\"/>\n",
       "<text text-anchor=\"start\" x=\"61\" y=\"-280.8\" font-family=\"Times,serif\" font-size=\"14.00\">({¬(Length(t) ≤ 0), If(Length(t) ≤ 0, seq.nth_u(t, 0), seq.nth_i(t, 0)) ≥ x}, None, {x: x, t: t, i: 0})</text>\n",
       "<text text-anchor=\"start\" x=\"382.5\" y=\"-259.8\" font-family=\"Courier,monospace\" font-size=\"14.00\">break</text>\n",
       "</g>\n",
       "<!-- 2&#45;&gt;3 -->\n",
       "<g id=\"edge3\" class=\"edge\">\n",
       "<title>2&#45;&gt;3</title>\n",
       "<path fill=\"none\" stroke=\"black\" d=\"M403,-335.66C403,-327.7 403,-318.76 403,-310.24\"/>\n",
       "<polygon fill=\"black\" stroke=\"black\" points=\"406.5,-310.16 403,-300.16 399.5,-310.16 406.5,-310.16\"/>\n",
       "</g>\n",
       "<!-- 4 -->\n",
       "<g id=\"node5\" class=\"node\">\n",
       "<title>4</title>\n",
       "<polygon fill=\"none\" stroke=\"black\" points=\"757.5,-212 48.5,-212 48.5,-160 757.5,-160 757.5,-212\"/>\n",
       "<text text-anchor=\"start\" x=\"61\" y=\"-192.8\" font-family=\"Times,serif\" font-size=\"14.00\">({¬(Length(t) ≤ 0), If(Length(t) ≤ 0, seq.nth_u(t, 0), seq.nth_i(t, 0)) ≥ x}, None, {x: x, t: t, i: 0})</text>\n",
       "<text text-anchor=\"start\" x=\"263\" y=\"-171.8\" font-family=\"Courier,monospace\" font-size=\"14.00\">assert PostInsertionPoint(x, t, i)</text>\n",
       "</g>\n",
       "<!-- 3&#45;&gt;4 -->\n",
       "<g id=\"edge4\" class=\"edge\">\n",
       "<title>3&#45;&gt;4</title>\n",
       "<path fill=\"none\" stroke=\"black\" d=\"M403,-247.66C403,-239.7 403,-230.76 403,-222.24\"/>\n",
       "<polygon fill=\"black\" stroke=\"black\" points=\"406.5,-222.16 403,-212.16 399.5,-222.16 406.5,-222.16\"/>\n",
       "</g>\n",
       "<!-- 5 -->\n",
       "<g id=\"node6\" class=\"node\">\n",
       "<title>5</title>\n",
       "<polygon fill=\"none\" stroke=\"black\" points=\"757.5,-124 48.5,-124 48.5,-72 757.5,-72 757.5,-124\"/>\n",
       "<text text-anchor=\"start\" x=\"61\" y=\"-104.8\" font-family=\"Times,serif\" font-size=\"14.00\">({¬(Length(t) ≤ 0), If(Length(t) ≤ 0, seq.nth_u(t, 0), seq.nth_i(t, 0)) ≥ x}, None, {x: x, t: t, i: 0})</text>\n",
       "<text text-anchor=\"start\" x=\"370\" y=\"-83.8\" font-family=\"Courier,monospace\" font-size=\"14.00\">return i</text>\n",
       "</g>\n",
       "<!-- 4&#45;&gt;5 -->\n",
       "<g id=\"edge5\" class=\"edge\">\n",
       "<title>4&#45;&gt;5</title>\n",
       "<path fill=\"none\" stroke=\"black\" d=\"M403,-159.66C403,-151.7 403,-142.76 403,-134.24\"/>\n",
       "<polygon fill=\"black\" stroke=\"black\" points=\"406.5,-134.16 403,-124.16 399.5,-134.16 406.5,-134.16\"/>\n",
       "</g>\n",
       "<!-- 6 -->\n",
       "<g id=\"node7\" class=\"node\">\n",
       "<title>6</title>\n",
       "<polygon fill=\"#aeeeee\" stroke=\"black\" points=\"806,-36 0,-36 0,0 806,0 806,-36\"/>\n",
       "<text text-anchor=\"start\" x=\"12\" y=\"-13.8\" font-family=\"Times,serif\" font-size=\"14.00\">({¬(Length(t) ≤ 0), If(Length(t) ≤ 0, seq.nth_u(t, 0), seq.nth_i(t, 0)) ≥ x}, SymbolicReturn(0), {x: x, t: t, i: 0})</text>\n",
       "</g>\n",
       "<!-- 5&#45;&gt;6 -->\n",
       "<g id=\"edge6\" class=\"edge\">\n",
       "<title>5&#45;&gt;6</title>\n",
       "<path fill=\"none\" stroke=\"black\" d=\"M403,-71.89C403,-63.84 403,-54.88 403,-46.66\"/>\n",
       "<polygon fill=\"black\" stroke=\"black\" points=\"406.5,-46.41 403,-36.41 399.5,-46.41 406.5,-46.41\"/>\n",
       "</g>\n",
       "</g>\n",
       "</svg>\n"
      ],
      "text/plain": [
       "<graphviz.dot.Digraph at 0x7fab8820cd00>"
      ]
     },
     "execution_count": 8,
     "metadata": {},
     "output_type": "execute_result"
    }
   ],
   "source": [
    "predicates = {\n",
    "    \"PostInsertionPoint\": ((z3.IntSort(), z3.SeqSort(z3.IntSort()), z3.IntSort()), z3.BoolSort(), post_insertion_point),\n",
    "    \"len\": ((z3.SeqSort(z3.IntSort()),), z3.IntSort(), z3.Length)\n",
    "}\n",
    "\n",
    "interpreter = ConcolicInterpreter(\n",
    "    concrete_store=initial_store,\n",
    "    predicates=predicates\n",
    ")\n",
    "\n",
    "insertion_point_set = interpreter.execute_function_body(\"insertion_point\", insertion_point_program)\n",
    "display_set(insertion_point_set)"
   ]
  },
  {
   "cell_type": "code",
   "execution_count": 9,
   "metadata": {},
   "outputs": [
    {
     "data": {
      "text/html": [
       "&not;(Length(t) &le; 0) &and;\n",
       "If(Length(t) &le; 0, seq.nth_u(t, 0), seq.nth_i(t, 0)) &ge; x"
      ],
      "text/plain": [
       "And(Not(Length(t) <= 0),\n",
       "    If(Length(t) <= 0, seq.nth_u(t, 0), seq.nth_i(t, 0)) >=\n",
       "    x)"
      ]
     },
     "execution_count": 9,
     "metadata": {},
     "output_type": "execute_result"
    }
   ],
   "source": [
    "final_constraint = z3_and(*get_leaves(insertion_point_set)[0][0].environment.path_constraints)\n",
    "final_constraint"
   ]
  },
  {
   "cell_type": "code",
   "execution_count": 10,
   "metadata": {},
   "outputs": [
    {
     "data": {
      "text/html": [
       "[x = 3, t = Unit(2)]"
      ],
      "text/plain": [
       "[x = 3, t = Unit(2)]"
      ]
     },
     "execution_count": 10,
     "metadata": {},
     "output_type": "execute_result"
    }
   ],
   "source": [
    "s = z3.Solver()\n",
    "s.add(z3.Not(final_constraint))\n",
    "assert s.check() == z3.sat\n",
    "z3_model = s.model()\n",
    "z3_model"
   ]
  },
  {
   "cell_type": "code",
   "execution_count": 11,
   "metadata": {},
   "outputs": [],
   "source": [
    "def store_from_z3_model(model: z3.ModelRef) -> Store:\n",
    "    env: Dict[Variable, ValueType] = {}\n",
    "    for constant in model:\n",
    "        constant_name = constant.name()\n",
    "        value = model[constant]\n",
    "        t = get_type_for_z3_expr(value)\n",
    "        env[Variable(constant_name, t)] = z3_expr_to_python_expr(value)\n",
    "\n",
    "    return Store(env)"
   ]
  },
  {
   "cell_type": "code",
   "execution_count": 12,
   "metadata": {},
   "outputs": [
    {
     "data": {
      "text/plain": [
       "Store({Variable('x', Type('int')): 3, Variable('t', Type('tuple')): (2,)})"
      ]
     },
     "execution_count": 12,
     "metadata": {},
     "output_type": "execute_result"
    }
   ],
   "source": [
    "new_store = store_from_z3_model(z3_model)\n",
    "new_store"
   ]
  },
  {
   "cell_type": "code",
   "execution_count": 13,
   "metadata": {},
   "outputs": [
    {
     "data": {
      "image/svg+xml": [
       "<?xml version=\"1.0\" encoding=\"UTF-8\" standalone=\"no\"?>\n",
       "<!DOCTYPE svg PUBLIC \"-//W3C//DTD SVG 1.1//EN\"\n",
       " \"http://www.w3.org/Graphics/SVG/1.1/DTD/svg11.dtd\">\n",
       "<!-- Generated by graphviz version 2.43.0 (0)\n",
       " -->\n",
       "<!-- Title: %3 Pages: 1 -->\n",
       "<svg width=\"814pt\" height=\"572pt\"\n",
       " viewBox=\"0.00 0.00 814.00 572.00\" xmlns=\"http://www.w3.org/2000/svg\" xmlns:xlink=\"http://www.w3.org/1999/xlink\">\n",
       "<g id=\"graph0\" class=\"graph\" transform=\"scale(1 1) rotate(0) translate(4 568)\">\n",
       "<title>%3</title>\n",
       "<polygon fill=\"white\" stroke=\"transparent\" points=\"-4,4 -4,-568 810,-568 810,4 -4,4\"/>\n",
       "<!-- 0 -->\n",
       "<g id=\"node1\" class=\"node\">\n",
       "<title>0</title>\n",
       "<polygon fill=\"none\" stroke=\"black\" points=\"494,-564 312,-564 312,-512 494,-512 494,-564\"/>\n",
       "<text text-anchor=\"start\" x=\"324\" y=\"-544.8\" font-family=\"Times,serif\" font-size=\"14.00\">({}, None, {x: x, t: t})</text>\n",
       "<text text-anchor=\"start\" x=\"382\" y=\"-523.8\" font-family=\"Courier,monospace\" font-size=\"14.00\">i = 0</text>\n",
       "</g>\n",
       "<!-- 1 -->\n",
       "<g id=\"node2\" class=\"node\">\n",
       "<title>1</title>\n",
       "<polygon fill=\"none\" stroke=\"black\" points=\"510,-476 296,-476 296,-424 510,-424 510,-476\"/>\n",
       "<text text-anchor=\"start\" x=\"308\" y=\"-456.8\" font-family=\"Times,serif\" font-size=\"14.00\">({}, None, {x: x, t: t, i: 0})</text>\n",
       "<text text-anchor=\"start\" x=\"324.5\" y=\"-435.8\" font-family=\"Courier,monospace\" font-size=\"14.00\">while (i &lt; len(t)):</text>\n",
       "</g>\n",
       "<!-- 0&#45;&gt;1 -->\n",
       "<g id=\"edge1\" class=\"edge\">\n",
       "<title>0&#45;&gt;1</title>\n",
       "<path fill=\"none\" stroke=\"black\" d=\"M403,-511.66C403,-503.7 403,-494.76 403,-486.24\"/>\n",
       "<polygon fill=\"black\" stroke=\"black\" points=\"406.5,-486.16 403,-476.16 399.5,-486.16 406.5,-486.16\"/>\n",
       "</g>\n",
       "<!-- 2 -->\n",
       "<g id=\"node3\" class=\"node\">\n",
       "<title>2</title>\n",
       "<polygon fill=\"none\" stroke=\"black\" points=\"569.5,-388 236.5,-388 236.5,-336 569.5,-336 569.5,-388\"/>\n",
       "<text text-anchor=\"start\" x=\"249\" y=\"-368.8\" font-family=\"Times,serif\" font-size=\"14.00\">({¬(Length(t) ≤ 0)}, None, {x: x, t: t, i: 0})</text>\n",
       "<text text-anchor=\"start\" x=\"341.5\" y=\"-347.8\" font-family=\"Courier,monospace\" font-size=\"14.00\">if (t[i] &gt;= x):</text>\n",
       "</g>\n",
       "<!-- 1&#45;&gt;2 -->\n",
       "<g id=\"edge2\" class=\"edge\">\n",
       "<title>1&#45;&gt;2</title>\n",
       "<path fill=\"none\" stroke=\"black\" d=\"M403,-423.66C403,-415.7 403,-406.76 403,-398.24\"/>\n",
       "<polygon fill=\"black\" stroke=\"black\" points=\"406.5,-398.16 403,-388.16 399.5,-398.16 406.5,-398.16\"/>\n",
       "</g>\n",
       "<!-- 3 -->\n",
       "<g id=\"node4\" class=\"node\">\n",
       "<title>3</title>\n",
       "<polygon fill=\"none\" stroke=\"black\" points=\"757.5,-300 48.5,-300 48.5,-248 757.5,-248 757.5,-300\"/>\n",
       "<text text-anchor=\"start\" x=\"61\" y=\"-280.8\" font-family=\"Times,serif\" font-size=\"14.00\">({¬(Length(t) ≤ 0), If(Length(t) ≤ 0, seq.nth_u(t, 0), seq.nth_i(t, 0)) ≥ x}, None, {x: x, t: t, i: 0})</text>\n",
       "<text text-anchor=\"start\" x=\"382.5\" y=\"-259.8\" font-family=\"Courier,monospace\" font-size=\"14.00\">break</text>\n",
       "</g>\n",
       "<!-- 2&#45;&gt;3 -->\n",
       "<g id=\"edge3\" class=\"edge\">\n",
       "<title>2&#45;&gt;3</title>\n",
       "<path fill=\"none\" stroke=\"black\" d=\"M403,-335.66C403,-327.7 403,-318.76 403,-310.24\"/>\n",
       "<polygon fill=\"black\" stroke=\"black\" points=\"406.5,-310.16 403,-300.16 399.5,-310.16 406.5,-310.16\"/>\n",
       "</g>\n",
       "<!-- 4 -->\n",
       "<g id=\"node5\" class=\"node\">\n",
       "<title>4</title>\n",
       "<polygon fill=\"none\" stroke=\"black\" points=\"757.5,-212 48.5,-212 48.5,-160 757.5,-160 757.5,-212\"/>\n",
       "<text text-anchor=\"start\" x=\"61\" y=\"-192.8\" font-family=\"Times,serif\" font-size=\"14.00\">({¬(Length(t) ≤ 0), If(Length(t) ≤ 0, seq.nth_u(t, 0), seq.nth_i(t, 0)) ≥ x}, None, {x: x, t: t, i: 0})</text>\n",
       "<text text-anchor=\"start\" x=\"263\" y=\"-171.8\" font-family=\"Courier,monospace\" font-size=\"14.00\">assert PostInsertionPoint(x, t, i)</text>\n",
       "</g>\n",
       "<!-- 3&#45;&gt;4 -->\n",
       "<g id=\"edge4\" class=\"edge\">\n",
       "<title>3&#45;&gt;4</title>\n",
       "<path fill=\"none\" stroke=\"black\" d=\"M403,-247.66C403,-239.7 403,-230.76 403,-222.24\"/>\n",
       "<polygon fill=\"black\" stroke=\"black\" points=\"406.5,-222.16 403,-212.16 399.5,-222.16 406.5,-222.16\"/>\n",
       "</g>\n",
       "<!-- 5 -->\n",
       "<g id=\"node6\" class=\"node\">\n",
       "<title>5</title>\n",
       "<polygon fill=\"none\" stroke=\"black\" points=\"757.5,-124 48.5,-124 48.5,-72 757.5,-72 757.5,-124\"/>\n",
       "<text text-anchor=\"start\" x=\"61\" y=\"-104.8\" font-family=\"Times,serif\" font-size=\"14.00\">({¬(Length(t) ≤ 0), If(Length(t) ≤ 0, seq.nth_u(t, 0), seq.nth_i(t, 0)) ≥ x}, None, {x: x, t: t, i: 0})</text>\n",
       "<text text-anchor=\"start\" x=\"370\" y=\"-83.8\" font-family=\"Courier,monospace\" font-size=\"14.00\">return i</text>\n",
       "</g>\n",
       "<!-- 4&#45;&gt;5 -->\n",
       "<g id=\"edge5\" class=\"edge\">\n",
       "<title>4&#45;&gt;5</title>\n",
       "<path fill=\"none\" stroke=\"black\" d=\"M403,-159.66C403,-151.7 403,-142.76 403,-134.24\"/>\n",
       "<polygon fill=\"black\" stroke=\"black\" points=\"406.5,-134.16 403,-124.16 399.5,-134.16 406.5,-134.16\"/>\n",
       "</g>\n",
       "<!-- 6 -->\n",
       "<g id=\"node7\" class=\"node\">\n",
       "<title>6</title>\n",
       "<polygon fill=\"#aeeeee\" stroke=\"black\" points=\"806,-36 0,-36 0,0 806,0 806,-36\"/>\n",
       "<text text-anchor=\"start\" x=\"12\" y=\"-13.8\" font-family=\"Times,serif\" font-size=\"14.00\">({¬(Length(t) ≤ 0), If(Length(t) ≤ 0, seq.nth_u(t, 0), seq.nth_i(t, 0)) ≥ x}, SymbolicReturn(0), {x: x, t: t, i: 0})</text>\n",
       "</g>\n",
       "<!-- 5&#45;&gt;6 -->\n",
       "<g id=\"edge6\" class=\"edge\">\n",
       "<title>5&#45;&gt;6</title>\n",
       "<path fill=\"none\" stroke=\"black\" d=\"M403,-71.89C403,-63.84 403,-54.88 403,-46.66\"/>\n",
       "<polygon fill=\"black\" stroke=\"black\" points=\"406.5,-46.41 403,-36.41 399.5,-46.41 406.5,-46.41\"/>\n",
       "</g>\n",
       "</g>\n",
       "</svg>\n"
      ],
      "text/plain": [
       "<graphviz.dot.Digraph at 0x7fab693676a0>"
      ]
     },
     "execution_count": 13,
     "metadata": {},
     "output_type": "execute_result"
    }
   ],
   "source": [
    "interpreter = ConcolicInterpreter(\n",
    "    concrete_store=new_store,\n",
    "    predicates=predicates\n",
    ")\n",
    "\n",
    "new_insertion_point_set = interpreter.execute_function_body(\"insertion_point\", insertion_point_program)\n",
    "display_set(insertion_point_set)"
   ]
  },
  {
   "cell_type": "code",
   "execution_count": 14,
   "metadata": {},
   "outputs": [
    {
     "data": {
      "text/html": [
       "Length(t) &le; 1 &and;\n",
       "&not;(Length(t) &le; 0) &and;\n",
       "&not;(If(Length(t) &le; 0, seq.nth_u(t, 0), seq.nth_i(t, 0)) &ge; x)"
      ],
      "text/plain": [
       "And(Length(t) <= 1,\n",
       "    Not(Length(t) <= 0),\n",
       "    Not(If(Length(t) <= 0, seq.nth_u(t, 0), seq.nth_i(t, 0)) >=\n",
       "        x))"
      ]
     },
     "execution_count": 14,
     "metadata": {},
     "output_type": "execute_result"
    }
   ],
   "source": [
    "new_final_constraint = z3_and(*get_leaves(new_insertion_point_set)[0][0].environment.path_constraints)\n",
    "new_final_constraint"
   ]
  },
  {
   "cell_type": "code",
   "execution_count": 15,
   "metadata": {},
   "outputs": [
    {
     "data": {
      "text/html": [
       "[t = Empty(Seq(Int)), x = 1 + seq.nth_i(Empty(Seq(Int)), 0)]"
      ],
      "text/plain": [
       "[t = Empty(Seq(Int)), x = 1 + seq.nth_i(Empty(Seq(Int)), 0)]"
      ]
     },
     "execution_count": 15,
     "metadata": {},
     "output_type": "execute_result"
    }
   ],
   "source": [
    "s = z3.Solver()\n",
    "s.add(z3.Not(final_constraint))\n",
    "s.add(z3.Not(new_final_constraint))\n",
    "assert s.check() == z3.sat\n",
    "z3_model = s.model()\n",
    "z3_model"
   ]
  },
  {
   "cell_type": "markdown",
   "metadata": {},
   "source": [
    "```{admonition} TODO\n",
    "Explain that this is the principle of concolic testing, and we will discuss how to turn this into a verification procedure in Testing chapter. (Note that the returned z3 expr tries to extract an element from an empty sequence).\n",
    "```"
   ]
  },
  {
   "cell_type": "code",
   "execution_count": null,
   "metadata": {},
   "outputs": [],
   "source": []
  }
 ],
 "metadata": {
  "kernelspec": {
   "display_name": "Python 3 (ipykernel)",
   "language": "python",
   "name": "python3"
  },
  "language_info": {
   "codemirror_mode": {
    "name": "ipython",
    "version": 3
   },
   "file_extension": ".py",
   "mimetype": "text/x-python",
   "name": "python",
   "nbconvert_exporter": "python",
   "pygments_lexer": "ipython3",
   "version": "3.9.5"
  }
 },
 "nbformat": 4,
 "nbformat_minor": 4
}
