{
 "cells": [
  {
   "cell_type": "markdown",
   "metadata": {},
   "source": [
    "# A Symbolic Interpreter and Correctness of Symbolic Transitions"
   ]
  },
  {
   "cell_type": "markdown",
   "metadata": {},
   "source": [
    "Executing a program with the concrete minipy interpreter updates the passed environment, and potentially raises an exception. Symbolic execution, in contrast, takes into account all feasible paths through a program. We distinguish between *online* and *offline* SE (see, e.g., {cite}`baldoni.coppa.ea-18`). Online SE executes multiple symbolic paths simultaneously: For example, executing an `if` statement leads to two paths which are both explored. Offline SE reasons about one single path at a time. *Concolic execution*, where SE is guided by a single *concrete* input, is an example of the latter class. In this section, we regard *online* SE. Symbolically executing a program in an online symbolic interpreter results in multiple output environments. Also, such an interpreter cannot simply raise an exception, as this would result in a premature termination of the analysis, skipping other feasible program paths. The consequences for our static, online symbolic interpreter are:\n",
    "\n",
    "* Instead of updating the initial symbolic environment, the interpreter produces potentially multiple new environments. Our interpreter even outputs all *intermediate* states, such that the output is a *Symbolic Execution Tree* (SET).\n",
    "* Thrown exceptions are stored in the symbolic environment instead of being raise. Thus, we need another field in our `SymbolicEnvironment` class.\n",
    "\n",
    "We first update the implementation of `SymbolicEnvironment` to include abrupt completion information:"
   ]
  },
  {
   "cell_type": "code",
   "execution_count": 1,
   "metadata": {},
   "outputs": [],
   "source": [
    "import utils\n",
    "from minipy import *\n",
    "from semantics import *"
   ]
  },
  {
   "cell_type": "code",
   "execution_count": 12,
   "metadata": {},
   "outputs": [],
   "source": [
    "class SymbolicEnvironment(SymbolicEnvironment):\n",
    "    def __init__(self,\n",
    "                 store: Optional[SymbolicStore] = None,\n",
    "                 path_constraints: Optional[Set[z3.BoolRef]] = None,\n",
    "                 abrupt_completion: Optional[Exception] = None,\n",
    "                 functions: Optional[Dict[str, Tuple[Tuple[Variable], Type, Callable]]] = None):\n",
    "        super().__init__(store, path_constraints, functions)\n",
    "        self.abrupt_completion = abrupt_completion\n",
    "\n",
    "    def copy(self):\n",
    "        return SymbolicEnvironment(self.store, self.path_constraints, self.abrupt_completion, self.functions)\n",
    "\n",
    "    def set(self, variable: Variable, value: SymbolicValueType) -> 'SymbolicEnvironment':\n",
    "        return SymbolicEnvironment(self.store.set(variable, value), self.path_constraints,\n",
    "                                   self.abrupt_completion, self.functions)\n",
    "\n",
    "    def set_abrupt_completion(self, exc: Optional[Exception]) -> 'SymbolicEnvironment':\n",
    "        return SymbolicEnvironment(self.store, self.path_constraints, exc, self.functions)\n",
    "\n",
    "    def add_constraint(self, constraint: z3.BoolRef) -> 'SymbolicEnvironment':\n",
    "        new_constraint = self.store.apply_to(constraint)\n",
    "        old_constraints = {constraint for constraint in self.path_constraints\n",
    "                           if not implies(new_constraint, constraint)}\n",
    "        return SymbolicEnvironment(self.store,\n",
    "                                   old_constraints | {new_constraint},\n",
    "                                   self.abrupt_completion, self.functions)\n",
    "\n",
    "    def add_function(self, name: str, params: Tuple[Variable], type: Type, impl: Callable) -> 'SymbolicEnvironment':\n",
    "        new_functions = copy.deepcopy(self.functions)\n",
    "        new_functions[name] = (params, type, impl)\n",
    "        return SymbolicEnvironment(self.store, self.path_constraints, self.abrupt_completion, new_functions)\n",
    "\n",
    "    def __str__(self):\n",
    "        return (\"(\" +\n",
    "                (\"{}\" if not self.path_constraints else str(self.path_constraints)) + \", \" +\n",
    "                str(self.store) +\n",
    "                (\"\" if self.abrupt_completion is None else repr(self.abrupt_completion)) +\n",
    "                \")\")\n",
    "\n",
    "    def to_html(self):\n",
    "        prev_html = z3.in_html_mode()\n",
    "        z3.set_html_mode(True)\n",
    "\n",
    "        path_constraint_string = \"{\"\n",
    "        if self.path_constraints:\n",
    "            path_constraint_string += \", \".join(map(z3_html_escape, map(z3.obj_to_string, self.path_constraints)))\n",
    "        path_constraint_string += \"}\"\n",
    "\n",
    "        path_constraint_string = path_constraint_string.replace(\"\\n\", \"<BR/>\").replace(\" \", \"&nbsp;\")\n",
    "\n",
    "        result = f\"({path_constraint_string}, \"\n",
    "        if self.abrupt_completion:\n",
    "            result += f\"{repr(self.abrupt_completion)}, \"\n",
    "        result += f\"{self.store.to_html()})\"\n",
    "\n",
    "        z3.set_html_mode(prev_html)\n",
    "        return result\n",
    "\n",
    "    def __repr__(self):\n",
    "        result = f\"SymbolicEnvironment({repr(self.store)}, \" \\\n",
    "                 f\"{repr(self.path_constraints)}, \" \\\n",
    "                 f\"{repr(self.abrupt_completion)}, \"\n",
    "        result += repr({f_name: f\"fun {f_name}{params} -> \"\n",
    "                                f\"{type}\" for f_name, (params, type, _) in self.functions.items()})\n",
    "        return f\"{result})\"\n",
    "\n",
    "    def __eq__(self, other):\n",
    "        return isinstance(other, SymbolicEnvironment) and self.store == other.store and \\\n",
    "               self.path_constraints == other.path_constraints and \\\n",
    "               self.functions == other.functions and \\\n",
    "               (self.abrupt_completion == other.abrupt_completion is None or\n",
    "                ExceptionWrapper(self.abrupt_completion) == ExceptionWrapper(other.abrupt_completion))\n"
   ]
  },
  {
   "cell_type": "markdown",
   "metadata": {},
   "source": [
    "Next, we define a class for nodes in an SET. An SET node comprises a symbolic environment and a string representation of the next instruction to execute. We also define a `to_html` method to produce pretty output."
   ]
  },
  {
   "cell_type": "code",
   "execution_count": 3,
   "metadata": {},
   "outputs": [],
   "source": [
    "class SETNode:\n",
    "    def __init__(self, environment: SymbolicEnvironment, pc: Optional[Union[ParseTree, str]] = None):\n",
    "        self.environment = environment\n",
    "        self.pc = pc\n",
    "\n",
    "    @property\n",
    "    def pc(self):\n",
    "        return self.__pc\n",
    "\n",
    "    @pc.setter\n",
    "    def pc(self, pc: Optional[Union[ParseTree, str]]):\n",
    "        if pc is None:\n",
    "            self.__pc = \"\"\n",
    "        elif type(pc) is str:\n",
    "            self.__pc = pc\n",
    "        else:\n",
    "            assert type(pc) is tuple\n",
    "            self.__pc = \"\" if pc is None else tree_to_string(pc).split(\"\\n\")[0].strip()\n",
    "\n",
    "    def to_html(self):\n",
    "        prev_html = z3.in_html_mode()\n",
    "        z3.set_html_mode(True)\n",
    "\n",
    "        result = f'<TABLE BORDER=\"0\"><TR>'\n",
    "        if \"<BR/>\" in self.environment.to_html():\n",
    "            result += f'<TD BALIGN=\"LEFT\" ALIGN=\"LEFT\">{self.environment.to_html()}</TD>'\n",
    "        else:\n",
    "            result += f'<TD>{self.environment.to_html()}</TD>'\n",
    "        result += \"</TR>\"\n",
    "\n",
    "        if self.pc:\n",
    "            result += '<TR><TD ALIGN=\"CENTER\"><FONT FACE=\"Courier\">' + z3_html_escape(self.pc) + \"</FONT></TD></TR>\"\n",
    "        result += \"</TABLE>\"\n",
    "\n",
    "        z3.set_html_mode(prev_html)\n",
    "        return result\n",
    "\n",
    "    def __repr__(self):\n",
    "        return f\"SETNode({repr(self.environment)}, {repr(self.pc)})\"\n",
    "\n",
    "    def __eq__(self, other):\n",
    "        return type(other) is type(self) and self.environment == other.environment and self.pc == other.pc"
   ]
  },
  {
   "cell_type": "markdown",
   "metadata": {},
   "source": [
    "Symbolic execution trees themselves are defined just like derivation trees, only with `SETNode`s instead of strings as nodes."
   ]
  },
  {
   "cell_type": "code",
   "execution_count": 4,
   "metadata": {},
   "outputs": [],
   "source": [
    "SET = Tuple[SETNode, List['SET']]"
   ]
  },
  {
   "cell_type": "markdown",
   "metadata": {},
   "source": [
    "The following function produces graphical representations (using GraphViz) of SETs."
   ]
  },
  {
   "cell_type": "code",
   "execution_count": 5,
   "metadata": {},
   "outputs": [],
   "source": [
    "from graphviz import Digraph"
   ]
  },
  {
   "cell_type": "code",
   "execution_count": 6,
   "metadata": {},
   "outputs": [],
   "source": [
    "def display_set(symbolic_execution_tree: SET) -> Digraph:\n",
    "    def traverse_tree(dot: Digraph, tree: SET, node_id=0):\n",
    "        node, children = tree\n",
    "        dot.node(repr(node_id), \"<\" + node.to_html() + \">\")\n",
    "\n",
    "        if children:\n",
    "            for child in children:\n",
    "                nonlocal counter\n",
    "                counter += 1\n",
    "                child_id = counter\n",
    "                dot.edge(repr(node_id), repr(child_id))\n",
    "                traverse_tree(dot, child, child_id)\n",
    "\n",
    "    counter = 0\n",
    "    dot = Digraph(comment=\"Symbolic Execution Tree\")\n",
    "    dot.attr('node', shape='box')\n",
    "    traverse_tree(dot, symbolic_execution_tree)\n",
    "    return dot"
   ]
  },
  {
   "cell_type": "markdown",
   "metadata": {},
   "source": [
    "Recall our small example from the previous section:"
   ]
  },
  {
   "cell_type": "code",
   "execution_count": 7,
   "metadata": {
    "tags": [
     "remove-cell"
    ]
   },
   "outputs": [],
   "source": [
    "x = 0\n",
    "y = 0"
   ]
  },
  {
   "cell_type": "code",
   "execution_count": 8,
   "metadata": {
    "tags": [
     "minipy"
    ]
   },
   "outputs": [],
   "source": [
    "x = 2 * y\n",
    "if x < 0:\n",
    "    x = -x"
   ]
  },
  {
   "cell_type": "markdown",
   "metadata": {},
   "source": [
    "The final SET resulting from symbolically executing this program will contain two leaves, one branch each for the case where the condition of the `if` statements hold or does not hold, respectively. Apart from the root, it also contains two inner nodes corresponding to the first assignment and the `if` statement. In the absence of an implemented symbolic interpreter, we manually construct this SET:"
   ]
  },
  {
   "cell_type": "code",
   "execution_count": 13,
   "metadata": {},
   "outputs": [
    {
     "data": {
      "image/svg+xml": [
       "<?xml version=\"1.0\" encoding=\"UTF-8\" standalone=\"no\"?>\n",
       "<!DOCTYPE svg PUBLIC \"-//W3C//DTD SVG 1.1//EN\"\n",
       " \"http://www.w3.org/Graphics/SVG/1.1/DTD/svg11.dtd\">\n",
       "<!-- Generated by graphviz version 2.43.0 (0)\n",
       " -->\n",
       "<!-- Title: %3 Pages: 1 -->\n",
       "<svg width=\"358pt\" height=\"308pt\"\n",
       " viewBox=\"0.00 0.00 358.00 308.00\" xmlns=\"http://www.w3.org/2000/svg\" xmlns:xlink=\"http://www.w3.org/1999/xlink\">\n",
       "<g id=\"graph0\" class=\"graph\" transform=\"scale(1 1) rotate(0) translate(4 304)\">\n",
       "<title>%3</title>\n",
       "<polygon fill=\"white\" stroke=\"transparent\" points=\"-4,4 -4,-304 354,-304 354,4 -4,4\"/>\n",
       "<!-- 0 -->\n",
       "<g id=\"node1\" class=\"node\">\n",
       "<title>0</title>\n",
       "<polygon fill=\"none\" stroke=\"black\" points=\"239,-300 121,-300 121,-248 239,-248 239,-300\"/>\n",
       "<text text-anchor=\"start\" x=\"133\" y=\"-280.8\" font-family=\"Times,serif\" font-size=\"14.00\">({}, {x: x, y: y})</text>\n",
       "<text text-anchor=\"start\" x=\"142.5\" y=\"-259.8\" font-family=\"Courier,monospace\" font-size=\"14.00\">x = 2 * y</text>\n",
       "</g>\n",
       "<!-- 1 -->\n",
       "<g id=\"node2\" class=\"node\">\n",
       "<title>1</title>\n",
       "<polygon fill=\"none\" stroke=\"black\" points=\"243.5,-212 116.5,-212 116.5,-160 243.5,-160 243.5,-212\"/>\n",
       "<text text-anchor=\"start\" x=\"129\" y=\"-192.8\" font-family=\"Times,serif\" font-size=\"14.00\">({}, {x: 2·y, y: y})</text>\n",
       "<text text-anchor=\"start\" x=\"143\" y=\"-171.8\" font-family=\"Courier,monospace\" font-size=\"14.00\">if x &lt; 0:</text>\n",
       "</g>\n",
       "<!-- 0&#45;&gt;1 -->\n",
       "<g id=\"edge1\" class=\"edge\">\n",
       "<title>0&#45;&gt;1</title>\n",
       "<path fill=\"none\" stroke=\"black\" d=\"M180,-247.66C180,-239.7 180,-230.76 180,-222.24\"/>\n",
       "<polygon fill=\"black\" stroke=\"black\" points=\"183.5,-222.16 180,-212.16 176.5,-222.16 183.5,-222.16\"/>\n",
       "</g>\n",
       "<!-- 2 -->\n",
       "<g id=\"node3\" class=\"node\">\n",
       "<title>2</title>\n",
       "<polygon fill=\"none\" stroke=\"black\" points=\"175.5,-124 2.5,-124 2.5,-72 175.5,-72 175.5,-124\"/>\n",
       "<text text-anchor=\"start\" x=\"15\" y=\"-104.8\" font-family=\"Times,serif\" font-size=\"14.00\">({¬(y ≥ 0)}, {x: 2·y, y: y})</text>\n",
       "<text text-anchor=\"start\" x=\"64.5\" y=\"-83.8\" font-family=\"Courier,monospace\" font-size=\"14.00\">x = &#45;x</text>\n",
       "</g>\n",
       "<!-- 1&#45;&gt;2 -->\n",
       "<g id=\"edge2\" class=\"edge\">\n",
       "<title>1&#45;&gt;2</title>\n",
       "<path fill=\"none\" stroke=\"black\" d=\"M153.19,-159.66C143.75,-150.74 133.01,-140.59 123.05,-131.18\"/>\n",
       "<polygon fill=\"black\" stroke=\"black\" points=\"125.29,-128.48 115.62,-124.16 120.48,-133.57 125.29,-128.48\"/>\n",
       "</g>\n",
       "<!-- 4 -->\n",
       "<g id=\"node5\" class=\"node\">\n",
       "<title>4</title>\n",
       "<polygon fill=\"none\" stroke=\"black\" points=\"350,-116 194,-116 194,-80 350,-80 350,-116\"/>\n",
       "<text text-anchor=\"start\" x=\"206\" y=\"-93.8\" font-family=\"Times,serif\" font-size=\"14.00\">({y ≥ 0}, {x: 2·y, y: y})</text>\n",
       "</g>\n",
       "<!-- 1&#45;&gt;4 -->\n",
       "<g id=\"edge4\" class=\"edge\">\n",
       "<title>1&#45;&gt;4</title>\n",
       "<path fill=\"none\" stroke=\"black\" d=\"M207.11,-159.66C219.45,-148.12 234,-134.52 246.19,-123.13\"/>\n",
       "<polygon fill=\"black\" stroke=\"black\" points=\"248.89,-125.39 253.81,-116 244.11,-120.28 248.89,-125.39\"/>\n",
       "</g>\n",
       "<!-- 3 -->\n",
       "<g id=\"node4\" class=\"node\">\n",
       "<title>3</title>\n",
       "<polygon fill=\"none\" stroke=\"black\" points=\"178,-36 0,-36 0,0 178,0 178,-36\"/>\n",
       "<text text-anchor=\"start\" x=\"12\" y=\"-13.8\" font-family=\"Times,serif\" font-size=\"14.00\">({¬(y ≥ 0)}, {x: &#45;2·y, y: y})</text>\n",
       "</g>\n",
       "<!-- 2&#45;&gt;3 -->\n",
       "<g id=\"edge3\" class=\"edge\">\n",
       "<title>2&#45;&gt;3</title>\n",
       "<path fill=\"none\" stroke=\"black\" d=\"M89,-71.89C89,-63.84 89,-54.88 89,-46.66\"/>\n",
       "<polygon fill=\"black\" stroke=\"black\" points=\"92.5,-46.41 89,-36.41 85.5,-46.41 92.5,-46.41\"/>\n",
       "</g>\n",
       "</g>\n",
       "</svg>\n"
      ],
      "text/plain": [
       "<graphviz.dot.Digraph at 0x7fb27c187700>"
      ]
     },
     "execution_count": 13,
     "metadata": {},
     "output_type": "execute_result"
    }
   ],
   "source": [
    "x = Variable(\"x\", INT_TYPE)\n",
    "y = Variable(\"y\", INT_TYPE)\n",
    "\n",
    "env_0 = SymbolicEnvironment(SymbolicStore({x: x.to_z3(), y: y.to_z3()}))\n",
    "env_1 = env_0.set(x, z3.IntVal(2) * y.to_z3())\n",
    "env_2 = env_1.add_constraint(x.to_z3() < z3.IntVal(0))\n",
    "env_2_1 = env_2.set(x, z3.IntVal(-1) * x.to_z3())\n",
    "env_3 = env_1.add_constraint(z3.Not(x.to_z3() < z3.IntVal(0)))\n",
    "\n",
    "root = SETNode(env_0, \"x = 2 * y\")\n",
    "if_node = SETNode(env_1, \"if x < 0:\")\n",
    "inversion_node = SETNode(env_2, \"x = -x\")\n",
    "leave_1 = SETNode(env_2_1)\n",
    "leave_2 = SETNode(env_3)\n",
    "\n",
    "tree = (root, [\n",
    "    (if_node, [\n",
    "        (inversion_node, [(leave_1, [])]),\n",
    "        (leave_2, [])])])\n",
    "\n",
    "display_set(tree)"
   ]
  },
  {
   "cell_type": "markdown",
   "metadata": {},
   "source": [
    "## References\n",
    "\n",
    "```{bibliography}\n",
    ":filter: docname in docnames\n",
    "```"
   ]
  }
 ],
 "metadata": {
  "kernelspec": {
   "display_name": "Python 3 (ipykernel)",
   "language": "python",
   "name": "python3"
  },
  "language_info": {
   "codemirror_mode": {
    "name": "ipython",
    "version": 3
   },
   "file_extension": ".py",
   "mimetype": "text/x-python",
   "name": "python",
   "nbconvert_exporter": "python",
   "pygments_lexer": "ipython3",
   "version": "3.9.5"
  }
 },
 "nbformat": 4,
 "nbformat_minor": 4
}
