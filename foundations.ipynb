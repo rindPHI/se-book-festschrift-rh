{
 "cells": [
  {
   "cell_type": "markdown",
   "metadata": {},
   "source": [
    "# Foundations"
   ]
  },
  {
   "cell_type": "markdown",
   "metadata": {},
   "source": [
    "* Three prior approaches defining a general framework for SE: {cite}`kneuper-91`, {cite}`lucanu.rusu.ea-17`, {cite}`boer.bonsangue-19`\n",
    "* Briefly describe all of them (see Dominic's thesis)\n",
    "* Explain why state-centered semantics makes sense\n",
    "* In this chapter, explain state-centered semantics from {cite}`steinhoefel-20*1`, and show a baseline symbolic interpreter, from which we will later on fork versions for concolic and selective SE."
   ]
  },
  {
   "cell_type": "markdown",
   "metadata": {},
   "source": [
    "## References\n",
    "\n",
    "```{bibliography}\n",
    ":filter: docname in docnames\n",
    "```"
   ]
  }
 ],
 "metadata": {
  "kernelspec": {
   "display_name": "Python 3 (ipykernel)",
   "language": "python",
   "name": "python3"
  },
  "language_info": {
   "codemirror_mode": {
    "name": "ipython",
    "version": 3
   },
   "file_extension": ".py",
   "mimetype": "text/x-python",
   "name": "python",
   "nbconvert_exporter": "python",
   "pygments_lexer": "ipython3",
   "version": "3.9.5"
  }
 },
 "nbformat": 4,
 "nbformat_minor": 4
}
