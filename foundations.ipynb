{
 "cells": [
  {
   "cell_type": "markdown",
   "metadata": {},
   "source": [
    "# Foundations"
   ]
  },
  {
   "cell_type": "markdown",
   "metadata": {},
   "source": [
    "Since its inception in the 1970s {cite}`burstall-74` {cite}`king-76` {cite}`dannenberg.ernst-82`, Symbolic Execution has been extensively applied for bug finding (e.g., for automated whitebox fuzzing {cite}`godefroid.levin.ea-12` and test case generation {cite}`cadar.dunbar.ea-08`) and program verification (e.g., as a main building block for deductive software verification {cite}`ahrendt.beckert.ea-16`). Given its popularity, one may find it surprising that literature on the technique's *semantic foundations* is relatively sparse. Surveys such as {cite}`baldoni.coppa.ea-18` {cite}`yang.filieri.ea-19` provide a high-level idea of what SE is about before quickly moving on to technical details such as the implementation of symbolic memory and solutions to the path explosion problem.\n",
    "\n",
    "The literature agrees that SE maintains (1) a *path condition* (or *path constraint*) accumulating conditions leading to the current execution path, and (2) a *symbolic store* mapping variables to (symbolic) values. Simply speaking, the store is updated by assignments, while the path condition is updated by case distinctions (e.g., an `if` statement). Together, symbolic store and path condition form a *symbolic (execution) state*. Each such state is additionally associated to a point in the program, the *program counter*, identifying the next instruction to execute.\n",
    "\n",
    "The following questions, associated to the semantics of SE, are usually left open:\n",
    "\n",
    "1. What is the relation between symbolic and concrete states?\n",
    "2. What does it mean to symbolically execute? In particular,\n",
    "3. What properties must a symbolic execution satisfy to be useful for testing and/or verification?\n",
    "\n",
    "We know of four takes on the semantics of SE {cite}`kneuper-91` {cite}`lucanu.rusu.ea-17` {cite}`boer.bonsangue-19` {cite}`steinhoefel-20*1`. All of them provide two complementary \"correctness\" properties, where usually one is related to program proving and the other one to testing, respectively. Only the system by Steinhöfel {cite}`steinhoefel-20*1` provides a semantics of symbolic states; the formalism by Lucanu et al. {cite}`lucanu.rusu.ea-17` does not explicitly incorporate symbolic states. With the exception of {cite}`steinhoefel-20*1`, which develops a semantics centered around symbolic states, all formalisms explain SE by relating concrete and symbolic transition systems using some notion of simulation.\n",
    "\n",
    "The proposed correctness properties are not equivalent; yet, they generally share the same idea: One property holds for SE if *at least* all feasible paths are explored, while the other one hold if *at most* all feasible paths are explored. The exception is the earliest of the mentioned works by Kneuper {cite}`kneuper-91`, who defines *full* SE as a system exploring *exactly* all feasible paths, and *weak* SE as a system exploring *at least* all feasible paths.\n",
    "\n",
    "In the following, we introduce the system proposed by Steinhöfel in {cite}`steinhoefel-20*1`. The advantages of this particular approach to give a semantics to symbolic execution are:\n",
    "\n",
    "* It is centered around smallest building block of SE, the symbolic state. The notion of *concretizations* of symbolic states, which is essential for their semantics, is also useful to define *concolic* execution later on.\n",
    "* The approach is not restricted to either testing or verification. In contrast, e.g., the correctness properties in {cite}`kneuper-91` focus on program verification, and de Boer and Bonsangue {cite}`boer.bonsangue-19` drew inspiration from verification when naming their properties.\n",
    "* Since the correctness properties in {cite}`steinhoefel-20*1` are based on relations between states, as opposed to transition systems, they are more fine grained: The steps in the symbolic transition system are not tied to the ones in a concrete system. If desired, such a coupling can be integrated by imposing additional, orthogonal, properties.\n",
    "* The system supports general m-to-n transitions, which, for instance, allows to define powerful state merging rules.\n",
    "* Its formal definitions require a relatively small overhead in terms of required underlying formalisms; the work by Lucanu et al. {cite}`lucanu.rusu.ea-17`, e.g., requires understanding the Reachability Logic of the K system.\n",
    "\n",
    "After introducing the abstract syntax and semantics of symbolic states in the next section, we define a baseline symbolic interpreter in the subsequent one, along with our correctness properties for symbolic transition relations."
   ]
  },
  {
   "cell_type": "markdown",
   "metadata": {},
   "source": [
    "## References\n",
    "\n",
    "```{bibliography}\n",
    ":filter: docname in docnames\n",
    "```"
   ]
  }
 ],
 "metadata": {
  "kernelspec": {
   "display_name": "Python 3 (ipykernel)",
   "language": "python",
   "name": "python3"
  },
  "language_info": {
   "codemirror_mode": {
    "name": "ipython",
    "version": 3
   },
   "file_extension": ".py",
   "mimetype": "text/x-python",
   "name": "python",
   "nbconvert_exporter": "python",
   "pygments_lexer": "ipython3",
   "version": "3.9.5"
  }
 },
 "nbformat": 4,
 "nbformat_minor": 4
}
