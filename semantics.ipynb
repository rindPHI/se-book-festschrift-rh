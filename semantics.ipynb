{
 "cells": [
  {
   "cell_type": "markdown",
   "metadata": {},
   "source": [
    "# Semantics"
   ]
  },
  {
   "cell_type": "code",
   "execution_count": 1,
   "metadata": {},
   "outputs": [],
   "source": [
    "import utils\n",
    "from minipy import *"
   ]
  },
  {
   "cell_type": "markdown",
   "metadata": {},
   "source": [
    "Symbolic states are the basic building blocks of symbolic execution. They differ from concrete execution states inasmuch that program variables are assigned symbolic instead of concrete expressions, and that they include an additional path constraint accumulating decisions taken during symbolic execution.  \n",
    "\n",
    "**Definition** (Symbolic Execution State). A *Symbolic (Execution) State* (SES) is a triple $(\\mathit{Constraint}, \\mathit{Store}, \\mathit{PC})$ of (1) a *path constraint* $\\mathit{Constraint}$, formally a set of formulas over program variables, (2) a *symbolic store* $\\mathit{Store}$, formally a set of assignments of program variables to symbolic expressions over program variables, and (3) a *program counter* $\\mathit{PC}$, formally a minipy program.\n",
    "\n",
    "Symbolic values in minipy are arithmetic expressions, boolean expressions, or sequences. Instead of defining our own language for symbolic expressions, we go for a shallow embedding into the language of the z3 SMT solver [^z3]. To represent tuples, we use z3's `SeqRef` type for sequences. `SeqRef` does not permit expressing nested sequences. To add nested sequences as symbolic values, we would have to go for a deeper embedding, which we abstain from for simplicity."
   ]
  },
  {
   "cell_type": "code",
   "execution_count": 2,
   "metadata": {},
   "outputs": [],
   "source": [
    "from typing import Union\n",
    "import z3"
   ]
  },
  {
   "cell_type": "code",
   "execution_count": 3,
   "metadata": {},
   "outputs": [],
   "source": [
    "SymbolicValueType = Union[z3.ArithRef, z3.BoolRef, z3.SeqRef]"
   ]
  },
  {
   "cell_type": "markdown",
   "metadata": {},
   "source": [
    "We first need a procedure to produce a symbolic z3 expression for a minipy Variable:"
   ]
  },
  {
   "cell_type": "code",
   "execution_count": 4,
   "metadata": {},
   "outputs": [],
   "source": [
    "class Variable(Variable):\n",
    "    def to_z3(self):\n",
    "        if self.type == INT_TYPE:\n",
    "            return z3.Int(self.name)\n",
    "        elif self.type == BOOL_TYPE:\n",
    "            return z3.Bool(self.name)\n",
    "        elif self.type == TUPLE_TYPE:\n",
    "            return z3_sequence(self.name)"
   ]
  },
  {
   "cell_type": "markdown",
   "metadata": {},
   "source": [
    "Consider, for example, the program `x = x + 1`, which increments the initial, symbolic value of the integer variable `x`. The resulting symbolic value is"
   ]
  },
  {
   "cell_type": "code",
   "execution_count": 5,
   "metadata": {},
   "outputs": [
    {
     "data": {
      "text/html": [
       "x + 1"
      ],
      "text/plain": [
       "x + 1"
      ]
     },
     "execution_count": 5,
     "metadata": {},
     "output_type": "execute_result"
    }
   ],
   "source": [
    "x = Variable(\"x\", INT_TYPE)\n",
    "symbolic_increment_expression = x.to_z3() + z3.IntVal(1)\n",
    "symbolic_increment_expression"
   ]
  },
  {
   "cell_type": "code",
   "execution_count": 6,
   "metadata": {},
   "outputs": [
    {
     "data": {
      "text/plain": [
       "'ArithRef'"
      ]
     },
     "execution_count": 6,
     "metadata": {},
     "output_type": "execute_result"
    }
   ],
   "source": [
    "type(symbolic_increment_expression).__name__"
   ]
  },
  {
   "cell_type": "markdown",
   "metadata": {},
   "source": [
    "A symbolic sequence (which represents a non-nested minipy tuple) is defined the `z3.Unit` and `z3.Concat` primitives. We define a helper function transforming Python integer lists to z3 sequences:"
   ]
  },
  {
   "cell_type": "code",
   "execution_count": 7,
   "metadata": {},
   "outputs": [],
   "source": [
    "def int_list_to_seq(l: List[int]) -> z3.SeqRef:\n",
    "    if len(l) == 1:\n",
    "        return z3.Unit(z3.IntVal(l[0]))\n",
    "    else:\n",
    "        return z3.Concat(*[z3.Unit(z3.IntVal(elem)) for elem in l])"
   ]
  },
  {
   "cell_type": "code",
   "execution_count": 8,
   "metadata": {},
   "outputs": [
    {
     "data": {
      "text/html": [
       "Concat(Unit(1), Concat(Unit(2), Unit(3)))"
      ],
      "text/plain": [
       "Concat(Unit(1), Concat(Unit(2), Unit(3)))"
      ]
     },
     "execution_count": 8,
     "metadata": {},
     "output_type": "execute_result"
    }
   ],
   "source": [
    "int_list_to_seq([1, 2, 3])"
   ]
  },
  {
   "cell_type": "code",
   "execution_count": 9,
   "metadata": {},
   "outputs": [
    {
     "data": {
      "text/html": [
       "Nth(Concat(Unit(1), Concat(Unit(2), Unit(3))), 1)"
      ],
      "text/plain": [
       "Nth(Concat(Unit(1), Concat(Unit(2), Unit(3))), 1)"
      ]
     },
     "execution_count": 9,
     "metadata": {},
     "output_type": "execute_result"
    }
   ],
   "source": [
    "int_list_to_seq([1, 2, 3])[z3.IntVal(1)]"
   ]
  },
  {
   "cell_type": "code",
   "execution_count": 10,
   "metadata": {},
   "outputs": [
    {
     "data": {
      "text/html": [
       "2"
      ],
      "text/plain": [
       "2"
      ]
     },
     "execution_count": 10,
     "metadata": {},
     "output_type": "execute_result"
    }
   ],
   "source": [
    "z3.simplify(int_list_to_seq([1, 2, 3])[z3.IntVal(1)])"
   ]
  },
  {
   "cell_type": "markdown",
   "metadata": {},
   "source": [
    "We can now implement a symbolic store. In essence, a symbolic store is just a mapping from variables to symbolic values:"
   ]
  },
  {
   "cell_type": "code",
   "execution_count": 24,
   "metadata": {},
   "outputs": [],
   "source": [
    "class SymbolicStore:\n",
    "    def __init__(self, env: Optional[Dict[Variable, SymbolicValueType]] = None):\n",
    "        if env is None:\n",
    "            self.env: Dict[Variable, SymbolicValueType] = {}\n",
    "        else:\n",
    "            self.env = env\n",
    "\n",
    "    def __eq__(self, other):\n",
    "        return type(other) is type(self) and self.env == other.env\n",
    "    \n",
    "    def __repr__(self):\n",
    "        return f\"SymbolicStore({repr(self.env)})\""
   ]
  },
  {
   "cell_type": "markdown",
   "metadata": {},
   "source": [
    "We overload the Python's `__getitem__` function to access elements of the store using dictionary syntax `store[variable]`:"
   ]
  },
  {
   "cell_type": "code",
   "execution_count": 12,
   "metadata": {},
   "outputs": [],
   "source": [
    "class SymbolicStore(SymbolicStore):\n",
    "    def __getitem__(self, item: Union[str, Variable]):\n",
    "        if item in self.env:\n",
    "            return self.env[item]\n",
    "        else:\n",
    "            if type(item) is str:\n",
    "                maybe_var = [variable for variable in self.env if variable.name == item]\n",
    "                if maybe_var:\n",
    "                    assert len(maybe_var) == 1\n",
    "                    return self.env[maybe_var[0]]\n",
    "\n",
    "            raise AttributeError(f\"Attempt to read uninitialized variable {item}\")"
   ]
  },
  {
   "cell_type": "markdown",
   "metadata": {},
   "source": [
    "We also need a setter function. We design symbolic stores to be immutable, which is why the setter returns a new store:"
   ]
  },
  {
   "cell_type": "code",
   "execution_count": 13,
   "metadata": {},
   "outputs": [],
   "source": [
    "class SymbolicStore(SymbolicStore):\n",
    "    def set(self, variable: Variable, value: SymbolicValueType) -> 'SymbolicStore':\n",
    "        new_env = copy.deepcopy(self.env)\n",
    "        new_env[variable] = value\n",
    "        return SymbolicStore(new_env)"
   ]
  },
  {
   "cell_type": "markdown",
   "metadata": {},
   "source": [
    "Back to our `x = x + 1` example: Assume we start symbolic execution in a state where variable `x` is assigned its unknown, initial symbolic value:"
   ]
  },
  {
   "cell_type": "code",
   "execution_count": 14,
   "metadata": {},
   "outputs": [
    {
     "data": {
      "text/html": [
       "x"
      ],
      "text/plain": [
       "x"
      ]
     },
     "execution_count": 14,
     "metadata": {},
     "output_type": "execute_result"
    }
   ],
   "source": [
    "store = SymbolicStore({x: x.to_z3()})\n",
    "store[x]"
   ]
  },
  {
   "cell_type": "markdown",
   "metadata": {},
   "source": [
    "Now, we update the value of `x` to `x + 1`:"
   ]
  },
  {
   "cell_type": "code",
   "execution_count": 15,
   "metadata": {},
   "outputs": [
    {
     "data": {
      "text/html": [
       "x + 1"
      ],
      "text/plain": [
       "x + 1"
      ]
     },
     "execution_count": 15,
     "metadata": {},
     "output_type": "execute_result"
    }
   ],
   "source": [
    "store = store.set(x, x.to_z3() + z3.IntVal(1))\n",
    "store[x]"
   ]
  },
  {
   "cell_type": "markdown",
   "metadata": {},
   "source": [
    "What happens when we do that once again?"
   ]
  },
  {
   "cell_type": "code",
   "execution_count": 16,
   "metadata": {},
   "outputs": [
    {
     "data": {
      "text/html": [
       "x + 1"
      ],
      "text/plain": [
       "x + 1"
      ]
     },
     "execution_count": 16,
     "metadata": {},
     "output_type": "execute_result"
    }
   ],
   "source": [
    "store = store.set(x, x.to_z3() + z3.IntVal(1))\n",
    "store[x]"
   ]
  },
  {
   "cell_type": "markdown",
   "metadata": {},
   "source": [
    "This could have been expected form our definition of the `set` method; however, it is not desirable: Since the current value of `x` was *already* `x + 1`, it should be `x + 2` after adding `1` another time! We have to consider the current assignments of variables occurring in symbolic expressions. In other words, we have to *apply* existing assignments to symbolic expressions. Consequently, we define an `apply_to` method:"
   ]
  },
  {
   "cell_type": "code",
   "execution_count": 17,
   "metadata": {},
   "outputs": [],
   "source": [
    "def z3_subst(expr: z3.ExprRef, subst_map: Dict[z3.ExprRef, z3.ExprRef]) -> z3.ExprRef:\n",
    "    return z3.substitute(expr, *tuple(subst_map.items()))\n",
    "\n",
    "\n",
    "class SymbolicStore(SymbolicStore):\n",
    "    def apply_to(self, onto: SymbolicValueType) -> SymbolicValueType:\n",
    "        return z3_subst(onto, {variable.to_z3(): self.env[variable]\n",
    "                               for variable in self.env})"
   ]
  },
  {
   "cell_type": "markdown",
   "metadata": {},
   "source": [
    "Let's try it out:"
   ]
  },
  {
   "cell_type": "code",
   "execution_count": 18,
   "metadata": {},
   "outputs": [
    {
     "data": {
      "text/html": [
       "x + 1 + 1"
      ],
      "text/plain": [
       "x + 1 + 1"
      ]
     },
     "execution_count": 18,
     "metadata": {},
     "output_type": "execute_result"
    }
   ],
   "source": [
    "store = SymbolicStore({x: x.to_z3() + z3.IntVal(1)})\n",
    "store.apply_to(x.to_z3() + z3.IntVal(1))"
   ]
  },
  {
   "cell_type": "code",
   "execution_count": 19,
   "metadata": {},
   "outputs": [
    {
     "data": {
      "text/html": [
       "2 + x"
      ],
      "text/plain": [
       "2 + x"
      ]
     },
     "execution_count": 19,
     "metadata": {},
     "output_type": "execute_result"
    }
   ],
   "source": [
    "z3.simplify(store.apply_to(x.to_z3() + z3.IntVal(1)))"
   ]
  },
  {
   "cell_type": "markdown",
   "metadata": {},
   "source": [
    "We use this to correct our `set` method:"
   ]
  },
  {
   "cell_type": "code",
   "execution_count": 20,
   "metadata": {},
   "outputs": [],
   "source": [
    "class SymbolicStore(SymbolicStore):\n",
    "    def set(self, variable: Variable, value: SymbolicValueType) -> 'SymbolicStore':\n",
    "        new_env = copy.deepcopy(self.env)\n",
    "        new_env[variable] = self.apply_to(value)\n",
    "        return SymbolicStore(new_env)"
   ]
  },
  {
   "cell_type": "code",
   "execution_count": 21,
   "metadata": {},
   "outputs": [
    {
     "data": {
      "text/html": [
       "x + 1"
      ],
      "text/plain": [
       "x + 1"
      ]
     },
     "execution_count": 21,
     "metadata": {},
     "output_type": "execute_result"
    }
   ],
   "source": [
    "store = SymbolicStore({x: x.to_z3() + z3.IntVal(1)})\n",
    "store[x]"
   ]
  },
  {
   "cell_type": "code",
   "execution_count": 22,
   "metadata": {},
   "outputs": [
    {
     "data": {
      "text/html": [
       "2 + x"
      ],
      "text/plain": [
       "2 + x"
      ]
     },
     "execution_count": 22,
     "metadata": {},
     "output_type": "execute_result"
    }
   ],
   "source": [
    "store = store.set(x, x.to_z3() + z3.IntVal(1))\n",
    "z3.simplify(store[x])"
   ]
  },
  {
   "cell_type": "markdown",
   "metadata": {},
   "source": [
    "We call our Python representation of symbolic states *symbolic environments* to align with our concrete minipy interpreter. Analogously to concrete environments, a symbolic environment contains a store and a repository of registered functions. Additionally, it comprises the set of path constraints. We also define getter and setter functions for store elements. The `add_constraint` method for adding a new path constraint applies the current store to that constraint, similarly to the application of the current store to symbolic expressions on updating the value of a variable. Symbolic environments are also immutable."
   ]
  },
  {
   "cell_type": "code",
   "execution_count": 26,
   "metadata": {},
   "outputs": [],
   "source": [
    "from typing import Set"
   ]
  },
  {
   "cell_type": "code",
   "execution_count": 27,
   "metadata": {},
   "outputs": [],
   "source": [
    "class SymbolicEnvironment:\n",
    "    def __init__(self,\n",
    "                 store: Optional[SymbolicStore] = None,\n",
    "                 path_constraints: Optional[Set[z3.BoolRef]] = None,\n",
    "                 functions: Optional[Dict[str, Tuple[Tuple[Variable], Type, Callable]]] = None):\n",
    "        self.store: SymbolicStore = SymbolicStore() if store is None else store\n",
    "        self.path_constraints: Set[z3.BoolRef] = \\\n",
    "            set() if path_constraints is None else simplify_formulas(*path_constraints)\n",
    "        self.functions: Dict[str, Tuple[Tuple[Variable], Type, Callable]] = \\\n",
    "            {} if functions is None else copy.deepcopy(functions)\n",
    "\n",
    "    def __getitem__(self, item: Union[str, Variable]) -> SymbolicValueType:\n",
    "        return self.store[item]\n",
    "\n",
    "    def set(self, variable: Variable, value: SymbolicValueType) -> 'SymbolicEnvironment':\n",
    "        return SymbolicEnvironment(self.store.set(variable, value), self.path_constraints,\n",
    "                                   self.functions)\n",
    "\n",
    "    def add_constraints(self, *constraints: z3.BoolRef) -> 'SymbolicEnvironment':\n",
    "        result = self\n",
    "        for constraint in constraints:\n",
    "            result = result.add_constraint(constraint)\n",
    "        return result\n",
    "\n",
    "    def add_constraint(self, constraint: z3.BoolRef) -> 'SymbolicEnvironment':\n",
    "        new_constraint = self.store.apply_to(constraint)\n",
    "        old_constraints = {constraint for constraint in self.path_constraints\n",
    "                           if not implies(new_constraint, constraint)}\n",
    "        return SymbolicEnvironment(self.store,\n",
    "                                   old_constraints | {new_constraint},\n",
    "                                   self.functions)\n",
    "\n",
    "    def add_function(self, name: str, params: Tuple[Variable], type: Type, impl: Callable) -> 'SymbolicEnvironment':\n",
    "        new_functions = copy.deepcopy(self.functions)\n",
    "        new_functions[name] = (params, type, impl)\n",
    "        return SymbolicEnvironment(self.store, self.path_constraints, self.abrupt_completion, new_functions)\n",
    "\n",
    "    def __repr__(self):\n",
    "        result = f\"SymbolicEnvironment({repr(self.store)}, \" \\\n",
    "                 f\"{repr(self.path_constraints)}, \" \\\n",
    "                 f\"{repr(self.abrupt_completion)}, \"\n",
    "        result += repr({f_name: f\"fun {f_name}{params} -> \"\n",
    "                                f\"{type}\" for f_name, (params, type, _) in self.functions.items()})\n",
    "        return f\"{result})\"\n",
    "\n",
    "    def __eq__(self, other):\n",
    "        return type(other) is type(self) and self.store == other.store and \\\n",
    "               self.path_constraints == other.path_constraints and \\\n",
    "               self.functions == other.functions and \\\n",
    "               (self.abrupt_completion == other.abrupt_completion is None or\n",
    "                ExceptionWrapper(self.abrupt_completion) == ExceptionWrapper(other.abrupt_completion))\n"
   ]
  },
  {
   "cell_type": "markdown",
   "metadata": {},
   "source": [
    "## References\n",
    "\n",
    "```{bibliography}\n",
    ":filter: docname in docnames\n",
    "```"
   ]
  },
  {
   "cell_type": "markdown",
   "metadata": {},
   "source": [
    "[^z3]: https://github.com/Z3Prover/z3"
   ]
  }
 ],
 "metadata": {
  "kernelspec": {
   "display_name": "Python 3 (ipykernel)",
   "language": "python",
   "name": "python3"
  },
  "language_info": {
   "codemirror_mode": {
    "name": "ipython",
    "version": 3
   },
   "file_extension": ".py",
   "mimetype": "text/x-python",
   "name": "python",
   "nbconvert_exporter": "python",
   "pygments_lexer": "ipython3",
   "version": "3.9.5"
  }
 },
 "nbformat": 4,
 "nbformat_minor": 4
}
