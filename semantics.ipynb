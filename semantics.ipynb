{
 "cells": [
  {
   "cell_type": "markdown",
   "metadata": {},
   "source": [
    "# Syntax and Semantics of Symbolic States"
   ]
  },
  {
   "cell_type": "code",
   "execution_count": 1,
   "metadata": {},
   "outputs": [],
   "source": [
    "import utils\n",
    "from minipy import *"
   ]
  },
  {
   "cell_type": "markdown",
   "metadata": {},
   "source": [
    "Symbolic states are the basic building blocks of symbolic execution. They differ from concrete execution states inasmuch that program variables are assigned symbolic instead of concrete expressions, and that they include an additional path constraint accumulating decisions taken during symbolic execution.  \n",
    "\n",
    "**Definition** (Symbolic Execution State). A *Symbolic (Execution) State* (SES) is a triple $(\\mathit{Constraint}, \\mathit{Store}, \\mathit{PC})$ of (1) a *path constraint* $\\mathit{Constraint}$, formally a set of formulas over program variables, (2) a *symbolic store* $\\mathit{Store}$, formally a set of assignments of program variables to symbolic expressions over program variables, and (3) a *program counter* $\\mathit{PC}$, formally a minipy program. We write $\\mathit{SEStates}$ for the set of all symbolic states.\n",
    "\n",
    "Symbolic values in minipy are arithmetic expressions, boolean expressions, or sequences. Instead of defining our own language for symbolic expressions, we go for a shallow embedding into the language of the z3 SMT solver [^z3]. To represent tuples, we use z3's `SeqRef` type for sequences. `SeqRef` does not permit expressing nested sequences. To add nested sequences as symbolic values, we would have to go for a deeper embedding, which we abstain from for simplicity."
   ]
  },
  {
   "cell_type": "code",
   "execution_count": 2,
   "metadata": {},
   "outputs": [],
   "source": [
    "from typing import Union\n",
    "import z3"
   ]
  },
  {
   "cell_type": "code",
   "execution_count": 3,
   "metadata": {},
   "outputs": [],
   "source": [
    "SymbolicValueType = Union[z3.ArithRef, z3.BoolRef, z3.SeqRef]"
   ]
  },
  {
   "cell_type": "markdown",
   "metadata": {},
   "source": [
    "We first need a procedure to produce a symbolic z3 expression for a minipy Variable:"
   ]
  },
  {
   "cell_type": "code",
   "execution_count": 4,
   "metadata": {},
   "outputs": [],
   "source": [
    "class Variable(Variable):\n",
    "    def to_z3(self):\n",
    "        if self.type == INT_TYPE:\n",
    "            return z3.Int(self.name)\n",
    "        elif self.type == BOOL_TYPE:\n",
    "            return z3.Bool(self.name)\n",
    "        elif self.type == TUPLE_TYPE:\n",
    "            return z3_sequence(self.name)\n",
    "\n",
    "        \n",
    "def z3_sequence(name, elem_sort: Optional[z3.SortRef] = None, ctx=None):\n",
    "    \"\"\"Return a sequence constant named `name`. If `ctx=None`, then the global context is used.\n",
    "    >>> x = z3_sequence('x')\n",
    "    \"\"\"\n",
    "    ctx = z3.get_ctx(ctx)\n",
    "    elem_sort = z3.IntSort(ctx) if elem_sort is None else elem_sort\n",
    "    return z3.SeqRef(\n",
    "        z3.Z3_mk_const(ctx.ref(),\n",
    "                       z3.to_symbol(name, ctx),\n",
    "                       z3.SeqSortRef(z3.Z3_mk_seq_sort(elem_sort.ctx_ref(), elem_sort.ast)).ast),\n",
    "        ctx)"
   ]
  },
  {
   "cell_type": "markdown",
   "metadata": {},
   "source": [
    "Consider, for example, the program `x = x + 1`, which increments the initial, symbolic value of the integer variable `x`. The resulting symbolic value is"
   ]
  },
  {
   "cell_type": "code",
   "execution_count": 5,
   "metadata": {},
   "outputs": [
    {
     "data": {
      "text/html": [
       "x + 1"
      ],
      "text/plain": [
       "x + 1"
      ]
     },
     "execution_count": 5,
     "metadata": {},
     "output_type": "execute_result"
    }
   ],
   "source": [
    "x = Variable(\"x\", INT_TYPE)\n",
    "symbolic_increment_expression = x.to_z3() + z3.IntVal(1)\n",
    "symbolic_increment_expression"
   ]
  },
  {
   "cell_type": "code",
   "execution_count": 6,
   "metadata": {},
   "outputs": [
    {
     "data": {
      "text/plain": [
       "'ArithRef'"
      ]
     },
     "execution_count": 6,
     "metadata": {},
     "output_type": "execute_result"
    }
   ],
   "source": [
    "type(symbolic_increment_expression).__name__"
   ]
  },
  {
   "cell_type": "markdown",
   "metadata": {},
   "source": [
    "A symbolic sequence (which represents a non-nested minipy tuple) is defined the `z3.Unit` and `z3.Concat` primitives. We define a helper function transforming Python integer lists to z3 sequences:"
   ]
  },
  {
   "cell_type": "code",
   "execution_count": 7,
   "metadata": {},
   "outputs": [],
   "source": [
    "def int_list_to_seq(l: Union[List[int], Tuple[int, ...]]) -> z3.SeqRef:\n",
    "    if not l:\n",
    "        return z3.Empty(z3.SeqSort(z3.IntSort()))\n",
    "    elif len(l) == 1:\n",
    "        return z3.Unit(z3.IntVal(l[0]))\n",
    "    else:\n",
    "        return z3.Concat(*[z3.Unit(z3.IntVal(elem)) for elem in l])"
   ]
  },
  {
   "cell_type": "code",
   "execution_count": 8,
   "metadata": {},
   "outputs": [
    {
     "data": {
      "text/html": [
       "Concat(Unit(1), Concat(Unit(2), Unit(3)))"
      ],
      "text/plain": [
       "Concat(Unit(1), Concat(Unit(2), Unit(3)))"
      ]
     },
     "execution_count": 8,
     "metadata": {},
     "output_type": "execute_result"
    }
   ],
   "source": [
    "int_list_to_seq([1, 2, 3])"
   ]
  },
  {
   "cell_type": "code",
   "execution_count": 9,
   "metadata": {},
   "outputs": [
    {
     "data": {
      "text/html": [
       "Nth(Concat(Unit(1), Concat(Unit(2), Unit(3))), 1)"
      ],
      "text/plain": [
       "Nth(Concat(Unit(1), Concat(Unit(2), Unit(3))), 1)"
      ]
     },
     "execution_count": 9,
     "metadata": {},
     "output_type": "execute_result"
    }
   ],
   "source": [
    "int_list_to_seq([1, 2, 3])[z3.IntVal(1)]"
   ]
  },
  {
   "cell_type": "code",
   "execution_count": 10,
   "metadata": {},
   "outputs": [
    {
     "data": {
      "text/html": [
       "2"
      ],
      "text/plain": [
       "2"
      ]
     },
     "execution_count": 10,
     "metadata": {},
     "output_type": "execute_result"
    }
   ],
   "source": [
    "z3.simplify(int_list_to_seq([1, 2, 3])[z3.IntVal(1)])"
   ]
  },
  {
   "cell_type": "markdown",
   "metadata": {},
   "source": [
    "We can now implement a symbolic store. In essence, a symbolic store is just a mapping from variables to symbolic values (our implementation contains some \"gimmicks\" like a suitable equality check and conversion to pretty-printed HTML code):"
   ]
  },
  {
   "cell_type": "code",
   "execution_count": 11,
   "metadata": {},
   "outputs": [],
   "source": [
    "from IPython.core.display import display, HTML\n",
    "\n",
    "def display_html(inp: str):\n",
    "    display(HTML(inp))"
   ]
  },
  {
   "cell_type": "code",
   "execution_count": 12,
   "metadata": {},
   "outputs": [],
   "source": [
    "class SymbolicStore:\n",
    "    def __init__(self, env: Optional[Dict[Variable, SymbolicValueType]] = None):\n",
    "        if env is None:\n",
    "            self.env: Dict[Variable, SymbolicValueType] = {}\n",
    "        else:\n",
    "            self.env = env\n",
    "\n",
    "    def __eq__(self, other):\n",
    "        return isinstance(other, SymbolicStore) and self.env == other.env\n",
    "    \n",
    "    def get_variable(self, name: str) -> Optional[Variable]:\n",
    "        maybe_var = [variable for variable in self.env if variable.name == name]\n",
    "        assert len(maybe_var) <= 1\n",
    "        return None if not maybe_var else maybe_var[0]\n",
    "\n",
    "    \n",
    "    def to_html(self):\n",
    "        prev_html = z3.in_html_mode()\n",
    "        z3.set_html_mode(True)\n",
    "\n",
    "        result = \"{\" + \", \".join([str(var) + \": \" + z3_html_escape(z3.obj_to_string(val))\n",
    "                                  for var, val in self.env.items()]) + \"}\"\n",
    "        z3.set_html_mode(prev_html)\n",
    "\n",
    "        return result\n",
    "    \n",
    "    def display(self):\n",
    "        display_html(self.to_html())\n",
    "\n",
    "    def __str__(self):\n",
    "        return str({str(var): str(val) for var, val in self.env.items()})\n",
    "    \n",
    "    def __repr__(self):\n",
    "        return f\"SymbolicStore({repr(self.env)})\"\n",
    "\n",
    "\n",
    "def z3_html_escape(html_input: str) -> str:\n",
    "    return html_input.replace(\"<\", \"&lt;\").replace(\">\", \"&gt;\")"
   ]
  },
  {
   "cell_type": "markdown",
   "metadata": {},
   "source": [
    "We overload the Python's `__getitem__` function to access elements of the store using dictionary syntax `store[variable]`:"
   ]
  },
  {
   "cell_type": "code",
   "execution_count": 13,
   "metadata": {},
   "outputs": [],
   "source": [
    "class SymbolicStore(SymbolicStore):\n",
    "    def __getitem__(self, item: Union[str, Variable]):\n",
    "        if item in self.env:\n",
    "            return self.env[item]\n",
    "        else:\n",
    "            if isinstance(item, str):\n",
    "                maybe_var = self.get_variable(item)\n",
    "                assert maybe_var\n",
    "                return self.env[maybe_var]\n",
    "\n",
    "            raise AttributeError(f\"Attempt to read uninitialized variable {item}\")"
   ]
  },
  {
   "cell_type": "markdown",
   "metadata": {},
   "source": [
    "We also need a setter function. We design symbolic stores to be immutable, which is why the setter returns a new store:"
   ]
  },
  {
   "cell_type": "code",
   "execution_count": 14,
   "metadata": {},
   "outputs": [],
   "source": [
    "class SymbolicStore(SymbolicStore):\n",
    "    def set(self, variable: Variable, value: SymbolicValueType) -> 'SymbolicStore':\n",
    "        new_env = copy.deepcopy(self.env)\n",
    "        new_env[variable] = z3.simplify(value)\n",
    "        return SymbolicStore(new_env)"
   ]
  },
  {
   "cell_type": "markdown",
   "metadata": {},
   "source": [
    "Back to our `x = x + 1` example: Assume we start symbolic execution in a state where variable `x` is assigned its unknown, initial symbolic value:"
   ]
  },
  {
   "cell_type": "code",
   "execution_count": 15,
   "metadata": {},
   "outputs": [
    {
     "data": {
      "text/html": [
       "{x: x}"
      ],
      "text/plain": [
       "<IPython.core.display.HTML object>"
      ]
     },
     "metadata": {},
     "output_type": "display_data"
    }
   ],
   "source": [
    "store = SymbolicStore({x: x.to_z3()})\n",
    "store.display()"
   ]
  },
  {
   "cell_type": "markdown",
   "metadata": {},
   "source": [
    "Now, we update the value of `x` to `x + 1`:"
   ]
  },
  {
   "cell_type": "code",
   "execution_count": 16,
   "metadata": {},
   "outputs": [
    {
     "data": {
      "text/html": [
       "{x: 1 + x}"
      ],
      "text/plain": [
       "<IPython.core.display.HTML object>"
      ]
     },
     "metadata": {},
     "output_type": "display_data"
    }
   ],
   "source": [
    "store = store.set(x, x.to_z3() + z3.IntVal(1))\n",
    "store.display()"
   ]
  },
  {
   "cell_type": "markdown",
   "metadata": {},
   "source": [
    "What happens when we do that once again?"
   ]
  },
  {
   "cell_type": "code",
   "execution_count": 17,
   "metadata": {},
   "outputs": [
    {
     "data": {
      "text/html": [
       "{x: 1 + x}"
      ],
      "text/plain": [
       "<IPython.core.display.HTML object>"
      ]
     },
     "metadata": {},
     "output_type": "display_data"
    }
   ],
   "source": [
    "store = store.set(x, x.to_z3() + z3.IntVal(1))\n",
    "store.display()"
   ]
  },
  {
   "cell_type": "markdown",
   "metadata": {},
   "source": [
    "This could have been expected form our definition of the `set` method; however, it is not desirable: Since the current value of `x` was *already* `x + 1`, it should be `x + 2` after adding `1` another time! We have to consider the current assignments of variables occurring in symbolic expressions. In other words, we have to *apply* existing assignments to symbolic expressions. Consequently, we define an `apply_to` method:"
   ]
  },
  {
   "cell_type": "code",
   "execution_count": 18,
   "metadata": {},
   "outputs": [],
   "source": [
    "def subst(expr: z3.ExprRef, subst_map: Dict[z3.ExprRef, z3.ExprRef]) -> z3.ExprRef:\n",
    "    assert all(z3.is_expr(lhs) for lhs in subst_map.keys())\n",
    "    assert all(z3.is_expr(rhs) for rhs in subst_map.values())\n",
    "    assert all(lhs.sort().eq(rhs.sort()) for lhs, rhs in subst_map.items()), \\\n",
    "           \"LHS sorts don't equal RHS sorts: \" + \\\n",
    "           str({f\"{lhs} ({lhs.sort()})\" : f\"{rhs} ({rhs.sort()})\"\n",
    "               for lhs, rhs in subst_map.items()\n",
    "               if not lhs.sort().eq(rhs.sort())})\n",
    "    \n",
    "    return z3.substitute(expr, *tuple(subst_map.items()))\n",
    "\n",
    "\n",
    "class SymbolicStore(SymbolicStore):\n",
    "    def apply_to(self, onto: SymbolicValueType) -> SymbolicValueType:\n",
    "        return z3.simplify(\n",
    "            subst(onto, {variable.to_z3(): self.env[variable]\n",
    "                         for variable in self.env}))"
   ]
  },
  {
   "cell_type": "markdown",
   "metadata": {},
   "source": [
    "Let's try it out:"
   ]
  },
  {
   "cell_type": "code",
   "execution_count": 19,
   "metadata": {},
   "outputs": [
    {
     "data": {
      "text/html": [
       "2 + x"
      ],
      "text/plain": [
       "2 + x"
      ]
     },
     "execution_count": 19,
     "metadata": {},
     "output_type": "execute_result"
    }
   ],
   "source": [
    "store = SymbolicStore({x: x.to_z3() + z3.IntVal(1)})\n",
    "store.apply_to(x.to_z3() + z3.IntVal(1))"
   ]
  },
  {
   "cell_type": "code",
   "execution_count": 20,
   "metadata": {},
   "outputs": [
    {
     "data": {
      "text/html": [
       "2 + x"
      ],
      "text/plain": [
       "2 + x"
      ]
     },
     "execution_count": 20,
     "metadata": {},
     "output_type": "execute_result"
    }
   ],
   "source": [
    "z3.simplify(store.apply_to(x.to_z3() + z3.IntVal(1)))"
   ]
  },
  {
   "cell_type": "markdown",
   "metadata": {},
   "source": [
    "We use this to correct our `set` method:"
   ]
  },
  {
   "cell_type": "code",
   "execution_count": 21,
   "metadata": {},
   "outputs": [],
   "source": [
    "class SymbolicStore(SymbolicStore):\n",
    "    def set(self, variable: Variable, value: SymbolicValueType) -> 'SymbolicStore':\n",
    "        new_env = copy.deepcopy(self.env)\n",
    "        new_env[variable] = self.apply_to(value)\n",
    "        return SymbolicStore(new_env)"
   ]
  },
  {
   "cell_type": "code",
   "execution_count": 22,
   "metadata": {},
   "outputs": [
    {
     "data": {
      "text/html": [
       "{x: x + 1}"
      ],
      "text/plain": [
       "<IPython.core.display.HTML object>"
      ]
     },
     "metadata": {},
     "output_type": "display_data"
    }
   ],
   "source": [
    "store = SymbolicStore({x: x.to_z3() + z3.IntVal(1)})\n",
    "store.display()"
   ]
  },
  {
   "cell_type": "code",
   "execution_count": 23,
   "metadata": {},
   "outputs": [
    {
     "data": {
      "text/html": [
       "2 + x"
      ],
      "text/plain": [
       "2 + x"
      ]
     },
     "execution_count": 23,
     "metadata": {},
     "output_type": "execute_result"
    }
   ],
   "source": [
    "store = store.set(x, x.to_z3() + z3.IntVal(1))\n",
    "z3.simplify(store[x])"
   ]
  },
  {
   "cell_type": "markdown",
   "metadata": {},
   "source": [
    "We call our Python representation of symbolic states *symbolic environments* to align with our concrete minipy interpreter. Analogously to concrete environments, a symbolic environment contains a store and a repository of registered functions. Additionally, it comprises the set of path constraints. We also define getter and setter functions for store elements. The `add_constraint` method for adding a new path constraint applies the current store to that constraint, similarly to the application of the current store to symbolic expressions on updating the value of a variable. Symbolic environments are also immutable."
   ]
  },
  {
   "cell_type": "code",
   "execution_count": 24,
   "metadata": {},
   "outputs": [],
   "source": [
    "import logging\n",
    "from typing import Set"
   ]
  },
  {
   "cell_type": "code",
   "execution_count": 25,
   "metadata": {},
   "outputs": [],
   "source": [
    "class SymbolicEnvironment:\n",
    "    def __init__(self,\n",
    "                 store: Optional[SymbolicStore] = None,\n",
    "                 path_constraints: Optional[Set[z3.BoolRef]] = None,\n",
    "                 functions: Optional[Dict[str, Tuple[Tuple[Variable], Type, Callable]]] = None):\n",
    "        self.store: SymbolicStore = SymbolicStore() if store is None else store\n",
    "        self.path_constraints: Set[z3.BoolRef] = (\n",
    "            set() if path_constraints is None\n",
    "            else set([z3.simplify(path_constraint) for path_constraint in path_constraints]))\n",
    "        self.functions: Dict[str, Tuple[Tuple[Variable], Type, Callable]] = \\\n",
    "            {} if functions is None else copy.deepcopy(functions)\n",
    "\n",
    "    def __getitem__(self, item: Union[str, Variable]) -> SymbolicValueType:\n",
    "        return self.store[item]\n",
    "\n",
    "    def set(self, variable: Variable, value: SymbolicValueType) -> 'SymbolicEnvironment':\n",
    "        return SymbolicEnvironment(self.store.set(variable, value), self.path_constraints,\n",
    "                                   self.functions)\n",
    "\n",
    "    def add_constraints(self, *constraints: z3.BoolRef) -> 'SymbolicEnvironment':\n",
    "        result = self\n",
    "        for constraint in constraints:\n",
    "            result = result.add_constraint(constraint)\n",
    "        return result\n",
    "\n",
    "    def add_constraint(self, constraint: z3.BoolRef) -> 'SymbolicEnvironment':\n",
    "        if z3.is_false(z3.simplify(constraint)):\n",
    "            new_constraints = {z3.BoolVal(False)}\n",
    "        elif z3.is_true(z3.simplify(constraint)):\n",
    "            return self\n",
    "        else:\n",
    "            new_constraint = self.store.apply_to(constraint)\n",
    "            new_constraints = self.path_constraints | {new_constraint}\n",
    "\n",
    "        return SymbolicEnvironment(self.store, new_constraints, self.functions)\n",
    "\n",
    "    def add_function(self, name: str, params: Tuple[Variable], type: Type, impl: Callable) -> 'SymbolicEnvironment':\n",
    "        new_functions = copy.deepcopy(self.functions)\n",
    "        new_functions[name] = (params, type, impl)\n",
    "        return SymbolicEnvironment(self.store, self.path_constraints, new_functions)\n",
    "    \n",
    "    def unsatisfiable(self) -> bool:\n",
    "        return is_unsat(z3_and(*[constraint for constraint in self.path_constraints]))\n",
    "        \n",
    "    def to_html(self):\n",
    "        prev_html = z3.in_html_mode()\n",
    "        z3.set_html_mode(True)\n",
    "\n",
    "        result = f\"({self.path_constraint_to_html()}, {repr(self.abrupt_completion)}, {self.store.to_html()})\"\n",
    "\n",
    "        z3.set_html_mode(prev_html)\n",
    "        return result\n",
    "\n",
    "    def path_constraint_to_html(self):\n",
    "        prev_html = z3.in_html_mode()\n",
    "        z3.set_html_mode(True)\n",
    "\n",
    "        path_constraint_string = \"{\"\n",
    "        if self.path_constraints:\n",
    "            path_constraint_string += \", \".join(map(z3_html_escape, map(z3.obj_to_string, self.path_constraints)))\n",
    "        path_constraint_string += \"}\"\n",
    "        path_constraint_string = path_constraint_string.replace(\"\\n\", \"<BR/>\").replace(\" \", \"&nbsp;\")\n",
    "\n",
    "        z3.set_html_mode(prev_html)\n",
    "        return path_constraint_string\n",
    "\n",
    "    \n",
    "    def display(self):\n",
    "        display_html(self.to_html())\n",
    "    \n",
    "    def __str__(self):\n",
    "        return \"(\" + (\"{}\" if not self.path_constraints else str(self.path_constraints)) + \", \" + str(self.store) + \")\"\n",
    "\n",
    "    def __repr__(self):\n",
    "        result = f\"SymbolicEnvironment({repr(self.store)}, \" \\\n",
    "                 f\"{repr(self.path_constraints)}, \"\n",
    "        result += repr({f_name: f\"fun {f_name}{params} -> \"\n",
    "                                f\"{type}\" for f_name, (params, type, _) in self.functions.items()})\n",
    "        return f\"{result})\"\n",
    "\n",
    "    def __eq__(self, other):\n",
    "        return isinstance(other, SymbolicEnvironment) and self.store == other.store and \\\n",
    "               self.path_constraints == other.path_constraints and \\\n",
    "               self.functions == other.functions\n",
    "\n",
    "\n",
    "def is_unsat(formula: z3.BoolRef, timeout_ms=10000) -> bool:\n",
    "    logger = logging.getLogger(\"is_unsat\")\n",
    "\n",
    "    solver = z3.Solver()\n",
    "    solver.set(\"timeout\", timeout_ms)\n",
    "    solver.add(formula)\n",
    "    result = solver.check()\n",
    "    \n",
    "    if result == z3.unknown:\n",
    "        logger.warning(\"Satisfiability of %s could not be decided\", formula)\n",
    "\n",
    "    \n",
    "    return result == z3.unsat"
   ]
  },
  {
   "cell_type": "markdown",
   "metadata": {},
   "source": [
    "To illustrate the idea of symbolic environments with path conditions, consider the following minipy program:"
   ]
  },
  {
   "cell_type": "code",
   "execution_count": 26,
   "metadata": {
    "tags": [
     "remove-cell"
    ]
   },
   "outputs": [],
   "source": [
    "y = 2"
   ]
  },
  {
   "cell_type": "code",
   "execution_count": 27,
   "metadata": {
    "tags": [
     "minipy"
    ]
   },
   "outputs": [],
   "source": [
    "x = 2 * y\n",
    "if x < 0:\n",
    "    x = -x"
   ]
  },
  {
   "cell_type": "markdown",
   "metadata": {},
   "source": [
    "SE starts with an empty environment assigning symbolic values to both `x` and `y`:"
   ]
  },
  {
   "cell_type": "code",
   "execution_count": 28,
   "metadata": {},
   "outputs": [],
   "source": [
    "x = Variable(\"x\", INT_TYPE)\n",
    "y = Variable(\"y\", INT_TYPE)\n",
    "env = SymbolicEnvironment(SymbolicStore({x: x.to_z3(), y: y.to_z3()}))"
   ]
  },
  {
   "cell_type": "markdown",
   "metadata": {},
   "source": [
    "Executing the first assignment updates the symbolic store:"
   ]
  },
  {
   "cell_type": "code",
   "execution_count": 29,
   "metadata": {},
   "outputs": [
    {
     "data": {
      "text/html": [
       "({}, {x: 2&middot;y, y: y})"
      ],
      "text/plain": [
       "<IPython.core.display.HTML object>"
      ]
     },
     "metadata": {},
     "output_type": "display_data"
    }
   ],
   "source": [
    "env = env.set(x, z3.IntVal(2) * y.to_z3())\n",
    "env.display()"
   ]
  },
  {
   "cell_type": "markdown",
   "metadata": {},
   "source": [
    "Next, we perform a case distinction on the guard of the `if` statement, which yields two environments:"
   ]
  },
  {
   "cell_type": "code",
   "execution_count": 30,
   "metadata": {},
   "outputs": [],
   "source": [
    "env_1 = env.add_constraint(x.to_z3() < z3.IntVal(0))\n",
    "env_2 = env.add_constraint(z3.Not(x.to_z3() < z3.IntVal(0)))"
   ]
  },
  {
   "cell_type": "code",
   "execution_count": 31,
   "metadata": {},
   "outputs": [
    {
     "data": {
      "text/html": [
       "({&not;(y&nbsp;&ge;&nbsp;0)}, {x: 2&middot;y, y: y})"
      ],
      "text/plain": [
       "<IPython.core.display.HTML object>"
      ]
     },
     "metadata": {},
     "output_type": "display_data"
    }
   ],
   "source": [
    "env_1.display()"
   ]
  },
  {
   "cell_type": "code",
   "execution_count": 32,
   "metadata": {},
   "outputs": [
    {
     "data": {
      "text/html": [
       "({y&nbsp;&ge;&nbsp;0}, {x: 2&middot;y, y: y})"
      ],
      "text/plain": [
       "<IPython.core.display.HTML object>"
      ]
     },
     "metadata": {},
     "output_type": "display_data"
    }
   ],
   "source": [
    "env_2.display()"
   ]
  },
  {
   "cell_type": "markdown",
   "metadata": {},
   "source": [
    "Observe how the initial assignment has been applied to the path constraint. For the `env_1` environment, where we entered the then branch of the `if` statement, we now execute the inversion of `x`:"
   ]
  },
  {
   "cell_type": "code",
   "execution_count": 33,
   "metadata": {},
   "outputs": [
    {
     "data": {
      "text/html": [
       "({&not;(y&nbsp;&ge;&nbsp;0)}, {x: -2&middot;y, y: y})"
      ],
      "text/plain": [
       "<IPython.core.display.HTML object>"
      ]
     },
     "metadata": {},
     "output_type": "display_data"
    }
   ],
   "source": [
    "env_1_1 = env_1.set(x, z3.IntVal(-1) * x.to_z3())\n",
    "env_1_1.display()"
   ]
  },
  {
   "cell_type": "markdown",
   "metadata": {},
   "source": [
    "What is the semantics of the environment `env_1_1`? Imagine that we did start the example program with a concrete value for `y` (the initial value of `x` is irrelevant, since it is overwritten):"
   ]
  },
  {
   "cell_type": "code",
   "execution_count": 34,
   "metadata": {},
   "outputs": [
    {
     "data": {
      "text/plain": [
       "(4, -2)"
      ]
     },
     "execution_count": 34,
     "metadata": {},
     "output_type": "execute_result"
    }
   ],
   "source": [
    "y = -2\n",
    "\n",
    "x = 2 * y\n",
    "if x < 0:\n",
    "    x = -x\n",
    "    \n",
    "x, y"
   ]
  },
  {
   "cell_type": "markdown",
   "metadata": {},
   "source": [
    "Obviously, for an initial negative value of `y`, the final value of `x` is twice that inverted value. The astute reader might recognize the similarity to the symbolic environment {¬(y ≥ 0)}, {x: -2·y, y: y}): Assuming that `y` is initially negative, the final value of `y` is unchanged, while the final value of `x` twice the inverted initial value of `y`. The semantics of symbolic states is defined just like that: For any initial concrete state satisfying the path constraint, the symbolic state represents the assignments resulting from evaluating variables in the symbolic store in that concrete state. This process is called the *concretization* of the symbolic state. If we concretize a symbolic state from any concrete state, we obtain its full semantics.\n",
    "\n",
    "We first define the concretization of symbolic stores. Let $\\mathit{ConcrStates}$ be the set of all concrete states (mappings from program variables to concrete values). Then, the concretization of a symbolic store $\\mathit{Store}$ with respect to a concrete store $\\sigma\\in\\mathit{ConcrStates}$ is a concrete store $\\sigma'\\in\\mathit{ConcrStates}$ such that (1) for all $\\mathtt{x}$ in the environment of $\\mathit{Store}$, $\\sigma'(\\mathtt{x})$ equals the right-hand side of $\\mathtt{x}$ in $\\mathit{Store}$ when evaluating all occurring program variables in $\\sigma$, and (2) $\\sigma(\\mathtt{y})=\\sigma'(\\mathtt{y})$ for all other program variables $\\mathtt{y}$ not occurring in $\\mathit{Store}$. This is easy to implement for our `SymbolicStore` class:"
   ]
  },
  {
   "cell_type": "code",
   "execution_count": 35,
   "metadata": {},
   "outputs": [],
   "source": [
    "class SymbolicStore(SymbolicStore):\n",
    "    def concretize(self, base_store: Store) -> Store:\n",
    "        subst_map = {variable.to_z3(): python_expr_to_z3_expr(base_store.env[variable]) for variable in base_store.env}\n",
    "        new_env = {variable: z3_expr_to_python_expr(z3.simplify(subst(self.env[variable], subst_map)))\n",
    "                   for variable in self.env}\n",
    "        new_env.update({variable: value for variable, value in base_store.env.items() if variable not in self.env})\n",
    "        return Store(new_env)"
   ]
  },
  {
   "cell_type": "markdown",
   "metadata": {},
   "source": [
    "The method `concretize` depends on two functions converting back and forth between Python / minipy and z3 expressions:"
   ]
  },
  {
   "cell_type": "code",
   "execution_count": 36,
   "metadata": {},
   "outputs": [],
   "source": [
    "def python_expr_to_z3_expr(expr: Union[int, bool, tuple]) -> Union[z3.ArithRef, z3.BoolRef, z3.SeqRef]:\n",
    "    if type(expr) is int:\n",
    "        return z3.IntVal(expr)\n",
    "    elif type(expr) is bool:\n",
    "        return z3.BoolVal(expr)\n",
    "    elif type(expr) is tuple:\n",
    "        return int_list_to_seq(expr)\n",
    "\n",
    "    assert False"
   ]
  },
  {
   "cell_type": "code",
   "execution_count": 37,
   "metadata": {},
   "outputs": [],
   "source": [
    "from typing import Generator"
   ]
  },
  {
   "cell_type": "code",
   "execution_count": 38,
   "metadata": {},
   "outputs": [],
   "source": [
    "def visit_z3_expr(e: Union[z3.ExprRef, z3.QuantifierRef],\n",
    "                  seen: Optional[Dict[z3.ExprRef, bool]] = None) -> \\\n",
    "        Generator[z3.ExprRef, None, None]:\n",
    "    if seen is None:\n",
    "        seen = {}\n",
    "    elif e in seen:\n",
    "        return\n",
    "\n",
    "    seen[e] = True\n",
    "    yield e\n",
    "\n",
    "    if z3.is_app(e):\n",
    "        for ch in e.children():\n",
    "            for e in visit_z3_expr(ch, seen):\n",
    "                yield e\n",
    "        return\n",
    "\n",
    "    if z3.is_quantifier(e):\n",
    "        for e in visit_z3_expr(e.body(), seen):\n",
    "            yield e\n",
    "        return\n",
    "    \n",
    "\n",
    "def z3_expr_to_python_expr(expr: Union[z3.IntNumRef, z3.BoolRef, z3.SeqRef]) -> Union[int, bool, tuple]:\n",
    "    if isinstance(expr, z3.IntNumRef):\n",
    "        return expr.as_long()\n",
    "    elif isinstance(expr, z3.BoolRef):\n",
    "        if z3.is_true(expr):\n",
    "            return True\n",
    "        elif z3.is_false(expr):\n",
    "            return False\n",
    "\n",
    "        assert False\n",
    "    elif isinstance(expr, z3.SeqRef):\n",
    "        result = []\n",
    "        for sub_expr in visit_z3_expr(expr):\n",
    "            if sub_expr.decl().kind() == z3.Z3_OP_SEQ_UNIT:\n",
    "                result.append(sub_expr.children()[0].as_long())\n",
    "        return tuple(result)"
   ]
  },
  {
   "cell_type": "code",
   "execution_count": 39,
   "metadata": {
    "tags": [
     "remove-cell"
    ]
   },
   "outputs": [],
   "source": [
    "x = Variable(\"x\", INT_TYPE)\n",
    "y = Variable(\"y\", INT_TYPE)"
   ]
  },
  {
   "cell_type": "code",
   "execution_count": 40,
   "metadata": {},
   "outputs": [
    {
     "name": "stdout",
     "output_type": "stream",
     "text": [
      "{x: 4, y: -2}\n"
     ]
    }
   ],
   "source": [
    "store = SymbolicStore({x: z3.IntVal(-2) * y.to_z3(), y: y.to_z3()})\n",
    "print(store.concretize(Store({y: -2})))"
   ]
  },
  {
   "cell_type": "markdown",
   "metadata": {},
   "source": [
    "The following definition of the concretization function is a simplified version of the original definition in {cite}`steinhoefel-20*1`: We assume that there is one fixed interpretation for all function symbols occurring in symbolic states (e.g., for arithmetic functions such as addition) and that there do not appear uninterpreted constants. Thus, we do not need to index the concretization function with a first-order structure. The definition furthermore assumes a set $\\mathit{ConcrStates}$ of concrete states (mappings from program variables to concrete values) and a *transition relation* $\\rho(p)$ for every program $p$ which consists of all pairs $(\\sigma, \\sigma')$ such that executing $p$ in the state $\\sigma\\in\\mathit{ConcrStates}$ results in the state $\\sigma'\\in\\mathit{ConcrStates}$.\n",
    "\n",
    "**Definition** (Concretization Function). The *concretization function* $\\mathit{concr}: \\mathit{SEStates} \\, \\times \\, \\mathit{ConcrStates} \\rightarrow 2^{\\mathit{ConcrStates}}$ maps an SES $(\\mathit{Constraint},\\mathit{Store},\\mathit{PC})$ and a concrete state $\\sigma\\in\\mathit{ConcrStates}$ (1) to the empty set $\\emptyset$ if either the the set $\\mathit{Constraint}$ does not hold in $\\sigma$, *or*, where $\\sigma'\\in\\mathit{ConcrStates}$ is the concretization of $\\mathit{Store}$ with respect to $\\sigma$, there is no $\\sigma''$ such that $(\\sigma', \\sigma'')\\in\\rho(\\mathit{PC}))$, or otherwise (2) the singleton set $\\{\\sigma''\\}$ such that $(\\sigma', \\sigma'')\\in\\rho(\\mathit{PC}))$, where $\\sigma'$ is as before."
   ]
  },
  {
   "cell_type": "markdown",
   "metadata": {},
   "source": [
    "In other words: If the path constraint is not satisfied by the given initial concrete store, the concretization is empty. Otherwise, the concretization is the concrete state resulting from executing the program counter starting in the concretization of the symbolic store starting in the initial concrete store. If the program counter diverges in this situation, the concretization is also empty.\n",
    "\n",
    "We extend our implementation of `SymbolicEnvironment` by a function `concretize`, which implements this definition up to the execution of the remaining program counter. Instead of returning either an empty set of a singleton set, we return an optional result."
   ]
  },
  {
   "cell_type": "code",
   "execution_count": 41,
   "metadata": {},
   "outputs": [],
   "source": [
    "class SymbolicEnvironment(SymbolicEnvironment):\n",
    "    def concretize(self, base_store: Store) -> Optional[Store]:\n",
    "        subst_map = {variable.to_z3(): python_expr_to_z3_expr(base_store.env[variable]) for variable in base_store.env}\n",
    "\n",
    "        concretized_path_cond = subst(z3_and(*self.path_constraints), subst_map)\n",
    "\n",
    "        if not is_unsat(z3.Not(concretized_path_cond)):\n",
    "            return None\n",
    "\n",
    "        return self.store.concretize(base_store)\n",
    "\n",
    "    \n",
    "def z3_and(*formulas: z3.BoolRef) -> z3.BoolRef:\n",
    "    if len(formulas) == 0:\n",
    "        return z3.BoolVal(True)\n",
    "    elif len(formulas) == 1:\n",
    "        return formulas[0]\n",
    "    else:\n",
    "        return z3.And(*formulas)"
   ]
  },
  {
   "cell_type": "code",
   "execution_count": 42,
   "metadata": {
    "tags": [
     "remove-cell"
    ]
   },
   "outputs": [],
   "source": [
    "env = env.set(x, z3.IntVal(2) * y.to_z3())\n",
    "env_1 = env.add_constraint(x.to_z3() < z3.IntVal(0))\n",
    "env_1_1 = env_1.set(x, z3.IntVal(-1) * x.to_z3())"
   ]
  },
  {
   "cell_type": "code",
   "execution_count": 43,
   "metadata": {},
   "outputs": [
    {
     "data": {
      "text/html": [
       "({&not;(y&nbsp;&ge;&nbsp;0)}, {x: -2&middot;y, y: y})"
      ],
      "text/plain": [
       "<IPython.core.display.HTML object>"
      ]
     },
     "metadata": {},
     "output_type": "display_data"
    }
   ],
   "source": [
    "env_1_1.display()"
   ]
  },
  {
   "cell_type": "code",
   "execution_count": 44,
   "metadata": {},
   "outputs": [
    {
     "name": "stdout",
     "output_type": "stream",
     "text": [
      "{x: 4, y: -2}\n"
     ]
    }
   ],
   "source": [
    "print(env_1_1.concretize(Store({y: -2})))"
   ]
  },
  {
   "cell_type": "code",
   "execution_count": 45,
   "metadata": {},
   "outputs": [
    {
     "name": "stdout",
     "output_type": "stream",
     "text": [
      "None\n"
     ]
    }
   ],
   "source": [
    "print(env_1_1.concretize(Store({y: 2})))"
   ]
  },
  {
   "cell_type": "markdown",
   "metadata": {},
   "source": [
    "The full `concr` function [^concr_termination], including the execution of the program counter, can be implemented using our minipy interpreter: "
   ]
  },
  {
   "cell_type": "code",
   "execution_count": 46,
   "metadata": {},
   "outputs": [],
   "source": [
    "def concr(ses: SymbolicEnvironment, pc: str, sigma: Store) -> Optional[Store]:\n",
    "    sigma_1 = ses.concretize(sigma)\n",
    "    if sigma_1 is None:\n",
    "        return None\n",
    "    \n",
    "    interpreter = Interpreter()\n",
    "    environment = Environment(sigma_1)\n",
    "    interpreter.execute(parse(pc), environment)\n",
    "    sigma_2 = environment.store\n",
    "    \n",
    "    return sigma_2"
   ]
  },
  {
   "cell_type": "markdown",
   "metadata": {},
   "source": [
    "We compute the concretization for the symbolic state arising after the execution of the initial assignment `x = 2 * y` of our example program, for the initial state assigning `-2` to `y`. The program counter in this case is the `if` statement following the initial assignment."
   ]
  },
  {
   "cell_type": "code",
   "execution_count": 47,
   "metadata": {},
   "outputs": [],
   "source": [
    "x = Variable(\"x\", INT_TYPE)\n",
    "y = Variable(\"y\", INT_TYPE)"
   ]
  },
  {
   "cell_type": "code",
   "execution_count": 48,
   "metadata": {},
   "outputs": [
    {
     "name": "stdout",
     "output_type": "stream",
     "text": [
      "{x: 4, y: -2}\n"
     ]
    }
   ],
   "source": [
    "pc = \"\"\"\n",
    "if x < 0:\n",
    "    x = -x\n",
    "\"\"\"\n",
    "\n",
    "sigma_2 = concr(\n",
    "    SymbolicEnvironment(SymbolicStore({x: z3.IntVal(2) * y.to_z3(), y: y.to_z3()})),\n",
    "    pc,\n",
    "    Store({y: -2})\n",
    ")\n",
    "\n",
    "print(sigma_2)"
   ]
  },
  {
   "cell_type": "markdown",
   "metadata": {},
   "source": [
    "For a different initial state:"
   ]
  },
  {
   "cell_type": "code",
   "execution_count": 49,
   "metadata": {},
   "outputs": [
    {
     "name": "stdout",
     "output_type": "stream",
     "text": [
      "{x: 4, y: 2}\n"
     ]
    }
   ],
   "source": [
    "sigma_2 = concr(\n",
    "    SymbolicEnvironment(SymbolicStore({x: z3.IntVal(2) * y.to_z3(), y: y.to_z3()})),\n",
    "    pc,\n",
    "    Store({y: 2})\n",
    ")\n",
    "\n",
    "print(sigma_2)"
   ]
  },
  {
   "cell_type": "markdown",
   "metadata": {},
   "source": [
    "The method `concretize` is also practically useful, as we will see when implementing a concolic interpreter: We maintain both a concrete and a symbolic state, and concretize the symbolic state with respect to the concrete state to decide which branch of, e.g., an `if` statement to follow.\n",
    "\n",
    "The \"full semantics\" of symbolic states is the union over the concretization for all possible initial concrete states. We can compute a poor approximation by generating a finite amount of initial states randomly (this demo implementation only works for integer variables, only generates values in a pre-defined range, and only produces initial states which assign values to exactly the variables assigned in the symbolic environment):"
   ]
  },
  {
   "cell_type": "code",
   "execution_count": 50,
   "metadata": {},
   "outputs": [],
   "source": [
    "import random"
   ]
  },
  {
   "cell_type": "code",
   "execution_count": 51,
   "metadata": {},
   "outputs": [],
   "source": [
    "def ses_semantics(ses: SymbolicEnvironment, pc: str) -> Generator[Store, None, None]:\n",
    "    while True:\n",
    "        sigma = Store({var: random.randint(-100, 100) for var in ses.store.env})\n",
    "        yield concr(ses, pc, sigma)"
   ]
  },
  {
   "cell_type": "code",
   "execution_count": 52,
   "metadata": {},
   "outputs": [
    {
     "name": "stdout",
     "output_type": "stream",
     "text": [
      "{x: 190, y: -95}\n",
      "{x: 174, y: -87}\n",
      "{x: 132, y: 66}\n",
      "{x: 102, y: 51}\n",
      "{x: 90, y: 45}\n",
      "{x: 158, y: 79}\n",
      "{x: 114, y: -57}\n",
      "{x: 172, y: -86}\n",
      "{x: 36, y: 18}\n",
      "{x: 168, y: -84}\n"
     ]
    }
   ],
   "source": [
    "env = SymbolicEnvironment(SymbolicStore({x: z3.IntVal(2) * y.to_z3(), y: y.to_z3()}))\n",
    "\n",
    "for _ in range(10):\n",
    "    print(next(ses_semantics(env, pc)))"
   ]
  },
  {
   "cell_type": "markdown",
   "metadata": {},
   "source": [
    "In the next section, we extend our concrete minipy interpreter to a baseline symbolic interpreter. In that section, we also derive our correctness properties *precision* and *exhaustiveness* for symbolic transition relations."
   ]
  },
  {
   "cell_type": "markdown",
   "metadata": {},
   "source": [
    "## References\n",
    "\n",
    "```{bibliography}\n",
    ":filter: docname in docnames\n",
    "```"
   ]
  },
  {
   "cell_type": "markdown",
   "metadata": {},
   "source": [
    "[^concr_termination]: Technically, it is not the full `concr` function, since there is, of course, no way to decide whether the program counter will terminate. In the theoretical definition, we assume that in the case of nontermination, there is no corresponding pair in the transition relation $\\rho(\\mathit{PC})$. Practically, `concr` will diverge if, and only if, the program counter diverges in the concretization of the symbolic store with respect to the given initial concrete store."
   ]
  },
  {
   "cell_type": "markdown",
   "metadata": {},
   "source": [
    "[^z3]: https://github.com/Z3Prover/z3"
   ]
  }
 ],
 "metadata": {
  "kernelspec": {
   "display_name": "Python 3 (ipykernel)",
   "language": "python",
   "name": "python3"
  },
  "language_info": {
   "codemirror_mode": {
    "name": "ipython",
    "version": 3
   },
   "file_extension": ".py",
   "mimetype": "text/x-python",
   "name": "python",
   "nbconvert_exporter": "python",
   "pygments_lexer": "ipython3",
   "version": "3.9.5"
  },
  "toc-autonumbering": true,
  "toc-showcode": false,
  "toc-showmarkdowntxt": false
 },
 "nbformat": 4,
 "nbformat_minor": 4
}
