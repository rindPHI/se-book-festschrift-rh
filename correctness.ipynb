{
 "cells": [
  {
   "cell_type": "markdown",
   "id": "3282c2bc-3f5c-40ad-b2c9-1c8a1b388358",
   "metadata": {},
   "source": [
    "(foundations:correctness)=\n",
    "# Correctness of Symbolic Transitions\n",
    "\n",
    "A symbolic transition relation relates symbolic inputs to symbolic outputs. Our symbolic interpreter implements a transitive closure over a transition relation consisting of 1-to-n transitions: It takes one symbolic state and produces multiple outputs, resulting in a symbolic execution tree. This leads to an exponential growth of the state space; a common problem in SE. One way to approach this problem is by merging multiple states of the tree, for example after execution of both legs of an `if` statement. Such *state merging* techniques are discussed in {ref}`techniques:state_explosion`. Merging transitions are m-to-1 transitions: Multiple states are combined into one successor. The framework from {cite}`steinhoefel-20*1`, which we present here, goes beyond that and permits m-to-n relations: An arbitrary number of input states can be combined to an arbitrary number of output states.\n",
    "\n",
    "Formally, an SE transition relation relates a *configuration* $\\mathit{Cnf}$, which is a set of symbolic states, to a pair of state sets $(I,O)$, such that $I\\subseteq\\mathit{Cnf}$ is replaced by $O$ in the *successor configuration*. In a standard SE system, $I$ is always a singleton; for a standard state merging transition, $O$ is a singleton. It is, however, not necessary to incorporate this restriction.\n",
    "\n",
    "**Definition** (SE Configuration and Transition Relation). An *SE Configuration* is a set $\\mathit{Cnf}\\subseteq\\mathit{SEStates}$. An *SE Transition Relation* is a relation $\\delta\\subseteq{}2^{\\mathit{SEStates}}\\times(2^{\\mathit{SEStates}}\\times2^{\\mathit{SEStates}})$ associating to a configuration $\\mathit{Cnf}$ transitions $t=(I,O)$ of *input states* $I\\subseteq\\mathit{Cnf}$ and output states $O\\subseteq{}2^{\\mathit{SEStates}}$. We call $\\mathit{Cnf}\\setminus{}I\\cup{}O$ the *successor configuration* of the transition $t$ for $\\mathit{Cnf}$. We write $\\mathit{Cnf}\\xrightarrow{t}\\mathit{Cnf}'$ if $(\\mathit{Cnf}, t)\\in\\delta$ and $\\mathit{Cnf}'$ is the successor configuration of $t$ in $\\mathit{Cnf}$.\n",
    "\n",
    "Note that in this definition, the Cartesian product is not understood as associative: $\\delta$ is a *binary relation*, with the power set of symbolic states as domain, and pairs of sets of states as range. Since $\\delta$ is a binary relation and no partial function, there might be multiple transitions for each input configuration. This corresponds to different implementations of, e.g., loop execution: There might be a transition based on loop unrolling and one using an invariant approach. Which one to use is a choice made by an SE *strategy*.\n",
    "\n",
    " A *big-step SE transition relation* $\\delta^\\ast$ is the transitive closure of a transition relation $\\delta$. In our symbolic interpreter, the `execute_...` methods for the \"atomic\" statement types like assignment, `if`, etc., implement a transition relation; the methods `execute_stmts` and `execute_block` realize the transitive closure.\n",
    " \n",
    "Based on the previous formalizations, we can define two aspects of the correctness of symbolic transitions. Modulo some details, the literature addressing the semantics of SE {cite}`kneuper-91` {cite}`lucanu.rusu.ea-17` {cite}`boer.bonsangue-19` {cite}`steinhoefel-20*1` agrees that two aspects of SE relations are relevant: First, SE relations can be *underapproximating* because they prune the search space; and second, they can be *overapproximating* because they use coarse abstractions, e.g., for loop and function summaries. In an underapproximation setting, all concrete transitions resulting from concretizing the symbolic ones are *feasible*, which means, e.g., that any bug discovered by symbolic execution corresponds to a real bug that can be triggered by an input. We call this property *precision*. When overapproximating, it is possible that discovered bugs are not feasible. However, one cane be sure that *if* there is a feasible bug, it will be discovered. We call this property of SE relations *exhaustiveness*. An SE relation cannot be exhaustive *and* precise *in general*; however, the execution of programs without loops or recursive calls generally satisfies both property. Furthermore, summarizing loops or methods with the *strongest possible summary* leads to a precise and exhaustive execution. Notwithstanding, finding such a summary can be arbitrarily difficult.\n",
    "\n",
    "We formally define exhaustive and precise SE transition relations, again following {cite}`steinhoefel-20*1`.\n",
    "\n",
    "**Definition** (Exhaustive SE Transition Relations). An SE transition relation $\\delta\\subseteq{}2^{\\mathit{SEStates}}\\times(2^{\\mathit{SEStates}}\\times2^{\\mathit{SEStates}})$ is called *exhaustive* if, and only if, for each transition $(I, O)$ in the range of $\\delta$, $i\\in{}I$ and concrete states $\\sigma,\\sigma'\\in\\mathit{ConcrStates}$, it holds that $\\sigma'\\in\\mathit{concr}(i,\\sigma)$ implies that there is a symbolic state $o\\in{}O$ such that $\\sigma'\\in\\mathit{concr}(o,\\sigma)$.[^same-init-state]\n",
    "\n",
    "**Definition** (Precise SE Transition Relations). An SE transition relation $\\delta\\subseteq{}2^{\\mathit{SEStates}}\\times(2^{\\mathit{SEStates}}\\times2^{\\mathit{SEStates}})$ is called *precise* if, and only if, for each transition $(I, O)$ in the range of $\\delta$, $o\\in{}O$ and concrete states $\\sigma,\\sigma'\\in\\mathit{ConcrStates}$, it holds that $\\sigma'\\in\\mathit{concr}(o,\\sigma)$ implies that there is a symbolic state $i\\in{}I$ such that $\\sigma'\\in\\mathit{concr}(i,\\sigma)$.\n",
    "\n",
    "Lemma 3.1 from {cite}`steinhoefel-20*1` asserts that the exhaustiveness / precision of a big-step SE transition relation follows from the exhaustiveness / precision of the underlying single-top transition relation.\n",
    "\n",
    "Whether we can use an SE system for a specific application scenario, most prominently testing vs. program proving, depends on whether it satisfies the right correctness property. In either case, we want to check whether a program satisfies some property or assertion $\\varphi$. Before explaining how the respective properties relate to these application scenarios, we formalize what it means for a symbolic state to satisfy a property. Intuitively, a symbolic state satisfies a property if it holds in all concretizations.\n",
    "\n",
    "**Definition** (Evaluation of Properties in SESs). Let $s=(\\mathit{Constraint},\\mathit{Store},\\mathit{PC})$ be a symbolic state and $\\varphi$ be an assertion (some formula over program variables in $\\mathit{PC}$). Then, $\\varphi$ does hold in $s$ if, and only if, $\\sigma'\\in\\mathit{concr}(s,\\sigma)$ implies that $\\varphi$ holds in $\\sigma'$, for all $\\sigma,\\sigma'\\in\\mathit{ConcrStates}$.\n",
    "\n",
    "Practically, this definition is useful to check if a formula is violated. Since it is infeasible to examine all concretizations, it is less useful for *proving* that a symbolic state satisfies a property.\n",
    "\n",
    "Consider the following program which is supposed to invert negative numbers:"
   ]
  },
  {
   "cell_type": "code",
   "execution_count": 28,
   "id": "fe17f2ed-8112-4da7-9d12-fa8707a94427",
   "metadata": {
    "tags": [
     "remove-cell"
    ]
   },
   "outputs": [],
   "source": [
    "x = 0"
   ]
  },
  {
   "cell_type": "code",
   "execution_count": 29,
   "id": "92d16cd7-9ddc-4ea9-9472-0b51a60a8b43",
   "metadata": {
    "tags": [
     "minipy"
    ]
   },
   "outputs": [],
   "source": [
    "if x > 1:\n",
    "    pass\n",
    "else:\n",
    "    x = -x"
   ]
  },
  {
   "cell_type": "markdown",
   "id": "cb1a6689-dc5e-4c40-a613-df8fbc88409a",
   "metadata": {},
   "source": [
    "The condition of the `if` statement contains an off-by-one error: It should be `>=` and not `>`. We write a function for applying stores to properties, which we need to use the above definition:"
   ]
  },
  {
   "cell_type": "code",
   "execution_count": 30,
   "id": "5a610b31-6434-451e-8fef-31b7b577d9e0",
   "metadata": {},
   "outputs": [],
   "source": [
    "def apply_store(store: Store, formula: z3.BoolRef) -> z3.BoolRef:\n",
    "    return subst(formula, {var.to_z3(): python_expr_to_z3_expr(value)\n",
    "                           for var, value in store.env.items()})"
   ]
  },
  {
   "cell_type": "markdown",
   "id": "80407268-e2a8-40a0-9861-dcaf2a9c47cd",
   "metadata": {},
   "source": [
    "We test the property $x\\geq{}0$ for a symbolic state with empty store and path condition and the above program as program counter:"
   ]
  },
  {
   "cell_type": "code",
   "execution_count": 31,
   "id": "1b21f67a-3bf1-455d-b5af-1115b8c72a75",
   "metadata": {},
   "outputs": [
    {
     "name": "stdout",
     "output_type": "stream",
     "text": [
      "Postcondition 0 <= x not satisfied for input x == 1\n"
     ]
    }
   ],
   "source": [
    "x = Variable(\"x\", INT_TYPE)\n",
    "state = SymbolicEnvironment(SymbolicStore({x: x.to_z3()}))\n",
    "pc = \"\"\"\n",
    "if x > 1:\n",
    "    pass\n",
    "else:\n",
    "    x = -x\n",
    "\"\"\"\n",
    "\n",
    "x_is_positive = x.to_z3() >= z3.IntVal(0)\n",
    "\n",
    "for _ in range(100):\n",
    "    sigma = Store({x: random.randint(-10, 10)})\n",
    "    sigma_prime = concr(state, pc, sigma)\n",
    "    satisfies = z3.simplify(apply_store(sigma_prime, x_is_positive))\n",
    "    if not satisfies:\n",
    "        print(f\"Postcondition {x_is_positive} not satisfied for input x == {sigma['x']}\")\n",
    "        break"
   ]
  },
  {
   "cell_type": "markdown",
   "id": "0af6afa0-332d-4ed8-9134-8c2c5bb59b57",
   "metadata": {},
   "source": [
    "The code above only finds the bug so quickly since we restricted the range for random inputs to the interval $[-10;10]$. For the still relatively small interval $[-100;100]$, the probability of hitting 1 is already only $201^{-1}\\approx{}0.5\\%$. For symbolic states with empty program counter $\\mathit{PC}$, however, we do *not* have to check all concretizations, and instead create a symbolic assertion that we can pass to z3. The idea is to evaluate the formula $\\mathit{Constraint}\\rightarrow\\{\\mathit{Store}\\}\\varphi$, where $\\mathit{Store}\\}\\varphi$ (the application of $\\mathit{Store}$ to $\\varphi$) is the formula resulting from replacing all occurrences of left-hand side from $\\mathit{Store}$ in $\\varphi$ by their right-hand sides in $\\mathit{Store}$.\n",
    "\n",
    "Let us consider the symbolic state arising from the the execution of the inversion in the `else` branch of the `if` statement."
   ]
  },
  {
   "cell_type": "code",
   "execution_count": 32,
   "id": "86f3a481-3d65-47b7-a81d-86d4f56a4d3d",
   "metadata": {},
   "outputs": [
    {
     "data": {
      "image/svg+xml": [
       "<?xml version=\"1.0\" encoding=\"UTF-8\" standalone=\"no\"?>\n",
       "<!DOCTYPE svg PUBLIC \"-//W3C//DTD SVG 1.1//EN\"\n",
       " \"http://www.w3.org/Graphics/SVG/1.1/DTD/svg11.dtd\">\n",
       "<!-- Generated by graphviz version 2.43.0 (0)\n",
       " -->\n",
       "<!-- Title: %3 Pages: 1 -->\n",
       "<svg width=\"141pt\" height=\"44pt\"\n",
       " viewBox=\"0.00 0.00 141.00 44.00\" xmlns=\"http://www.w3.org/2000/svg\" xmlns:xlink=\"http://www.w3.org/1999/xlink\">\n",
       "<g id=\"graph0\" class=\"graph\" transform=\"scale(1 1) rotate(0) translate(4 40)\">\n",
       "<title>%3</title>\n",
       "<polygon fill=\"white\" stroke=\"transparent\" points=\"-4,4 -4,-40 137,-40 137,4 -4,4\"/>\n",
       "<!-- 0 -->\n",
       "<g id=\"node1\" class=\"node\">\n",
       "<title>0</title>\n",
       "<polygon fill=\"none\" stroke=\"black\" points=\"133,-36 0,-36 0,0 133,0 133,-36\"/>\n",
       "<text text-anchor=\"start\" x=\"12.5\" y=\"-13.8\" font-family=\"Times,serif\" font-size=\"14.00\">({x ≤ 1}, {x: &#45;1·x})</text>\n",
       "</g>\n",
       "</g>\n",
       "</svg>\n"
      ],
      "text/plain": [
       "<graphviz.dot.Digraph at 0x7fb2f0255550>"
      ]
     },
     "execution_count": 32,
     "metadata": {},
     "output_type": "execute_result"
    }
   ],
   "source": [
    "interpreter = SymbolicInterpreter()\n",
    "tree = interpreter.execute(parse(pc), state)\n",
    "leaf = get_leaves(tree)[1]\n",
    "display_set(leaf)"
   ]
  },
  {
   "cell_type": "code",
   "execution_count": 33,
   "id": "d72bdfbf-1c30-4344-8003-9552d8b87290",
   "metadata": {},
   "outputs": [
    {
     "data": {
      "text/html": [
       "x &le; 1 &rArr; 0 &le; x"
      ],
      "text/plain": [
       "Implies(x <= 1, 0 <= x)"
      ]
     },
     "execution_count": 33,
     "metadata": {},
     "output_type": "execute_result"
    }
   ],
   "source": [
    "proof_goal = z3.Implies(z3_and(*leaf[0].environment.path_constraints),\n",
    "                       state.store.apply_to(x_is_positive))\n",
    "proof_goal"
   ]
  },
  {
   "cell_type": "code",
   "execution_count": 34,
   "id": "1abeddee-8643-4741-b9e0-efb82b62adbd",
   "metadata": {},
   "outputs": [
    {
     "name": "stdout",
     "output_type": "stream",
     "text": [
      "counterexample\n",
      "[x = -1]\n"
     ]
    }
   ],
   "source": [
    "z3.prove(proof_goal)"
   ]
  },
  {
   "cell_type": "markdown",
   "id": "415ff250-b289-4a67-b2d0-c63c28f4c879",
   "metadata": {},
   "source": [
    "This indicates how symbolic execution is used in program proving: We execute the full program until we get a set of leaves with empty program counters, and then follow the procedure we just have demonstrated to prove that the desired property holds in those leaves.\n",
    "\n",
    "To ensure that this leads to valid proofs, the SE transition relation used to obtain the leaves has to be *exhaustive*, as asserted by the below lemma from {cite}`steinhoefel-20*1`:[^simplified-strongly]\n",
    "\n",
    "**Lemma** (A Property Proven by Exhaustive SE Holds for the Inputs). Let $\\delta$ be an exhaustive SE transition relation and $\\mathit{Cnf}\\xrightarrow{(I,O)}_{\\delta^\\ast}\\mathit{Cnf}'$. If a postcondition $\\varphi$ holds for all states $o\\in\\mathit{Cnf}'$, it follows that $\\varphi$ also holds for all $i\\in\\mathit{Cnf}$.\n",
    "\n",
    "Intuitively, an exhaustive transition relation does not lose information (in the sense of represented concretizations) along the way, which means that everything we can prove for its outputs must hold for the inputs. Conversely, a violation discovered for an output cannot necessarily be transferred to an input: Discovered bugs might be infeasible for exhaustive SE systems. If feasibility of discovered bugs is a desired goal, symbolic transitions must be *precise*, i.e., not increase the set of represented concretizations during execution.\n",
    "\n",
    "**Lemma** (A Bug Discovered by Precise SE is Feasible). Let $\\delta$ be an precise SE transition relation and $\\mathit{Cnf}\\xrightarrow{(I,O)}_{\\delta^\\ast}\\mathit{Cnf}'$. If a postcondition $\\varphi$ is not true for some state $o\\in\\mathit{Cnf}'$, it follows that there is an input $i\\in\\mathit{Cnf}$ such that $\\varphi$ does not hold in $i$.\n",
    "\n",
    "Consequently, symbolic execution must be *precise* if we use if, e.g., in automated testing (fuzzing), and *exhaustive* if we use if for program proving.\n",
    "\n",
    "Interestingly, the two notions of precision and exhaustiveness can be used as oracles to test the symbolic interpreter! This is, in fact, a new contribution, as we do not know of any existing work on automated testing of symbolic execution engines. To test the interpreter for exhaustiveness, for example, we take an empty symbolic and a random initial concrete state as well as a test program (the program counter), and check that some symbolic output has the same concretization. The precision check is symmetric: We assert that all concretizations for all outputs already exist in the input. Theoretically, we could create not only concrete initial states, but also test programs randomly. However, automatically generating meaningful programs is hard, which is why we use hand-crafted inputs here."
   ]
  },
  {
   "cell_type": "code",
   "execution_count": 35,
   "id": "68258462-f100-435f-b4e4-055770562030",
   "metadata": {},
   "outputs": [],
   "source": [
    "def concr(ses: SymbolicEnvironment,\n",
    "          pc: Optional[Union[str, ASTNode]],\n",
    "          sigma: Store) -> Optional[Tuple[Store, Optional[Exception]]]:\n",
    "    if type(pc) is str:\n",
    "        pc = parse(pc)\n",
    "\n",
    "    sigma_1 = ses.concretize(sigma)\n",
    "    if sigma_1 is None:\n",
    "        return None\n",
    "\n",
    "    if pc is None:\n",
    "        return sigma_1, None\n",
    "\n",
    "    interpreter = Interpreter()\n",
    "    environment = Environment(sigma_1)\n",
    "\n",
    "    exc = None\n",
    "\n",
    "    try:\n",
    "        interpreter.execute(pc, environment)\n",
    "    except Exception as e:\n",
    "        exc = e\n",
    "\n",
    "    sigma_2 = environment.store\n",
    "\n",
    "    return sigma_2, exc"
   ]
  },
  {
   "cell_type": "code",
   "execution_count": 36,
   "id": "6a6bd456-e9be-4c97-9e82-9a10e219905c",
   "metadata": {},
   "outputs": [],
   "source": [
    "def check_exhaustiveness(interpreter: SymbolicInterpreter,\n",
    "                         ast_node: ASTNode,\n",
    "                         input_state: SymbolicEnvironment,\n",
    "                         sigma: Store) -> bool:\n",
    "    concr_result_1 = concr(input_state, ast_node, sigma)\n",
    "    if concr_result_1 is None:\n",
    "        return True\n",
    "\n",
    "    sigma_prime, maybe_exc = concr_result_1\n",
    "    output_states = [node.environment for node, _ in get_leaves(interpreter.execute(ast_node, input_state))]\n",
    "\n",
    "    for output_state in output_states:\n",
    "        concr_result_2 = concr(output_state, None, sigma)\n",
    "        if concr_result_2 is None:\n",
    "            continue\n",
    "\n",
    "        sigma_prime_prime, _ = concr_result_2\n",
    "\n",
    "        if (sigma_prime_prime == sigma_prime and\n",
    "                (maybe_exc is None or\n",
    "                 ExceptionWrapper(maybe_exc) ==\n",
    "                 ExceptionWrapper(output_state.abrupt_completion))):\n",
    "            return True\n",
    "\n",
    "    return False"
   ]
  },
  {
   "cell_type": "code",
   "execution_count": 37,
   "id": "e0e4d0cf-65db-4fbc-90c4-dde4f6b6691e",
   "metadata": {},
   "outputs": [],
   "source": [
    "def check_precision(interpreter: SymbolicInterpreter,\n",
    "                    ast_node: ASTNode,\n",
    "                    input_state: SymbolicEnvironment,\n",
    "                    sigma: Store) -> bool:\n",
    "    output_states = [node.environment for node, _ in get_leaves(interpreter.execute(ast_node, input_state))]\n",
    "\n",
    "    concr_results_1 = [(output_state, concr_result_1)\n",
    "                       for output_state, concr_result_1 in [(output_state, concr(output_state, None, sigma))\n",
    "                                                            for output_state in output_states]\n",
    "                       if concr_result_1 is not None]\n",
    "    concr_result_2 = concr(input_state, ast_node, sigma)\n",
    "\n",
    "    if concr_results_1 and not concr_result_2:\n",
    "        return False\n",
    "\n",
    "    for output_state, concr_result_1 in concr_results_1:\n",
    "        sigma_prime, maybe_exc = concr_result_1\n",
    "        sigma_prime_prime, _ = concr_result_2\n",
    "\n",
    "        if (sigma_prime_prime != sigma_prime or\n",
    "                (maybe_exc is not None and\n",
    "                 ExceptionWrapper(maybe_exc) !=\n",
    "                 ExceptionWrapper(output_state.abrupt_completion))):\n",
    "            return False\n",
    "\n",
    "    return True"
   ]
  },
  {
   "cell_type": "markdown",
   "id": "97e4a6c3-631a-4c22-8886-f0a3f756c2c1",
   "metadata": {},
   "source": [
    "We specialized these checks to transitions with one input and multiple outputs, and also check for equal exceptions if an exception has been raised. Since we implement an automated testing procedure, we can only show the presence of bugs or that a transition is correct with some probability if no problem could be found. The functions `is_probably_exhaustive` and `is_probably_precise` return `None` if not problem with exhaustiveness / precision has been found, and otherwise a concrete store as *counterexample* for an initial assignment for a run where symbolic execution is not exhaustive or not precise."
   ]
  },
  {
   "cell_type": "code",
   "execution_count": 38,
   "id": "442dc292-6b02-4071-ad2d-70509df5295f",
   "metadata": {},
   "outputs": [],
   "source": [
    "def is_probably_exhaustive(interpreter: SymbolicInterpreter,\n",
    "                           variables: Set[Variable],\n",
    "                           ast_node: ASTNode,\n",
    "                           num_runs: int = 10,\n",
    "                           log: bool = False) -> Optional[Store]:\n",
    "    return is_probably_correct(interpreter, variables, ast_node, True, num_runs, log)\n",
    "\n",
    "\n",
    "def is_probably_precise(interpreter: SymbolicInterpreter,\n",
    "                        variables: Set[Variable],\n",
    "                        ast_node: ASTNode,\n",
    "                        num_runs: int = 10,\n",
    "                        log: bool = False) -> Optional[Store]:\n",
    "    return is_probably_correct(interpreter, variables, ast_node, False, num_runs, log)\n",
    "\n",
    "\n",
    "def is_probably_correct(interpreter: SymbolicInterpreter,\n",
    "                        variables: Set[Variable],\n",
    "                        ast_node: ASTNode,\n",
    "                        exhaustiveness: bool = True,\n",
    "                        num_runs: int = 10,\n",
    "                        log: bool = False) -> Optional[Store]:\n",
    "    symb_env: Dict[Variable, SymbolicValueType] = {\n",
    "        variable: variable.to_z3()\n",
    "        for variable in variables\n",
    "    }\n",
    "        \n",
    "    input_state = SymbolicEnvironment(SymbolicStore(symb_env))\n",
    "        \n",
    "    for _ in range(num_runs):\n",
    "        concr_env: Dict[Variable, Union[int, bool, tuple]] = {\n",
    "            variable: random_val(variable.type)\n",
    "            for variable in variables\n",
    "        }\n",
    "\n",
    "        sigma = Store(concr_env)\n",
    "\n",
    "        result = (check_exhaustiveness(interpreter, ast_node, input_state, sigma) if exhaustiveness\n",
    "                  else check_precision(interpreter, ast_node, input_state, sigma))\n",
    "        if not result:\n",
    "            if log:\n",
    "                print(f\"Check for initial state {concr_env}: COUNTEREXAMPLE\")\n",
    "            return sigma\n",
    "        \n",
    "        \n",
    "        if log:\n",
    "            print(f\"Check for initial state {concr_env}: No problem discovered\")\n",
    "\n",
    "    return None\n",
    "\n",
    "\n",
    "def random_val(t: Type) -> Union[int, bool, tuple]:\n",
    "    if t == INT_TYPE:\n",
    "        return random.randint(-100, 100)\n",
    "    elif t == BOOL_TYPE:\n",
    "        return random.choice([True, False])\n",
    "    else:\n",
    "        return tuple([random.randint(-100, 100) \n",
    "                      for _ in range(random.randint(0, 10))])"
   ]
  },
  {
   "cell_type": "markdown",
   "id": "4c78235e-e45d-4836-b795-e5c2eead8f94",
   "metadata": {},
   "source": [
    "Now, we can, for example, check wether the implementation of symbolic execution of `if` statements in `SymbolicInterpreter` is precise and exhaustive. As a test program, we choose an `if` statement where the then and else branch each contain a single assignment. We choose relatively expressions for the `if` guard and assignment right-hand sides which can raise different types of exceptions.[^exc-if-found]"
   ]
  },
  {
   "cell_type": "code",
   "execution_count": 39,
   "id": "49085588-2fc4-4dca-a09d-7e8fa7615e05",
   "metadata": {},
   "outputs": [
    {
     "name": "stdout",
     "output_type": "stream",
     "text": [
      "Execution of if statements is probably exhaustive.\n",
      "Execution of if statements is probably precise.\n"
     ]
    }
   ],
   "source": [
    "if_program = \"\"\"\n",
    "if a >= t[a] and g:\n",
    "    x = a // c\n",
    "else:\n",
    "    x = c // b\n",
    "\"\"\"\n",
    "\n",
    "variables = {\n",
    "    Variable(\"a\", INT_TYPE),\n",
    "    Variable(\"b\", INT_TYPE),\n",
    "    Variable(\"c\", INT_TYPE),\n",
    "    Variable(\"g\", BOOL_TYPE),\n",
    "    Variable(\"t\", TUPLE_TYPE),\n",
    "}\n",
    "\n",
    "ast_node = parse_on(if_program, \"<if_stmt>\")\n",
    "\n",
    "result = is_probably_exhaustive(SymbolicInterpreter(), variables, ast_node)\n",
    "if not result:\n",
    "    print(\"Execution of if statements is probably exhaustive.\")\n",
    "else:\n",
    "    print(f\"Execution of if statements is not exhaustive. Counterexample: {result}\")\n",
    "\n",
    "result = is_probably_precise(SymbolicInterpreter(), variables, ast_node)\n",
    "if not result:\n",
    "    print(\"Execution of if statements is probably precise.\")\n",
    "else:\n",
    "    print(f\"Execution of if statements is not precise. Counterexample: {result}\")"
   ]
  },
  {
   "cell_type": "markdown",
   "id": "3f5662a5-9e39-48a4-805f-31d81180dcd9",
   "metadata": {},
   "source": [
    "To test the symbolic execution of `while` statements, we choose a relatively simple, but unbounded loop (i.e., the evaluation of the loop guard depends on a symbolic value), and initialize the symbolic interpreter such that loops are unrolled at most two times."
   ]
  },
  {
   "cell_type": "code",
   "execution_count": 40,
   "id": "a944a705-e0b2-4426-96c7-6db6e630bb57",
   "metadata": {},
   "outputs": [
    {
     "name": "stdout",
     "output_type": "stream",
     "text": [
      "Check for initial state {Variable('idx', Type('int')): 94, Variable('x', Type('int')): 40}: COUNTEREXAMPLE\n",
      "Execution of while statements is not exhaustive. Counterexample: {idx: 94, x: 40}\n",
      "Execution of while statements is probably precise.\n"
     ]
    }
   ],
   "source": [
    "while_program = \"\"\"\n",
    "while idx >= x:\n",
    "    idx = idx - 1\n",
    "\"\"\"\n",
    "\n",
    "variables = {\n",
    "    Variable(\"x\", INT_TYPE),\n",
    "    Variable(\"idx\", INT_TYPE)\n",
    "}\n",
    "\n",
    "\n",
    "interpreter = SymbolicInterpreter(loop_unrolling_threshold=2)\n",
    "ast_node = parse_on(while_program, \"<while_stmt>\")\n",
    "\n",
    "result = is_probably_exhaustive(interpreter, variables, ast_node, log=True)\n",
    "if not result:\n",
    "    print(\"Execution of while statements is probably exhaustive.\")\n",
    "else:\n",
    "    print(f\"Execution of while statements is not exhaustive. Counterexample: {result}\")\n",
    "\n",
    "result = is_probably_precise(interpreter, variables, ast_node)\n",
    "if not result:\n",
    "    print(\"Execution of while statements is probably precise.\")\n",
    "else:\n",
    "    print(f\"Execution of while statements is not precise. Counterexample: {result}\")"
   ]
  },
  {
   "cell_type": "markdown",
   "id": "863c0d32-f58d-4783-8844-02294a0c0789",
   "metadata": {},
   "source": [
    "It turns out the loop unrolling is not exhaustive. This could be expected, since we prune the search space, which leads to a loss of represented concrete states; but now, we have an automatically discovered counterexample! \n",
    "\n",
    "In contrast to static analysis techniques like the well-known *Abstract Interpretation* {cite}`cousot.cousot-77`, which reasons in an abstract domain throughout the analysis, symbolic execution is in its nature a *precise analysis technique*. This is reflected by the relatively low effort required to come up with a precise, terminating symbolic interpreter. To render SE *exhaustive*, extra effort needs to be invested (see {ref}`techniques:loops_static_se`).\n",
    "\n",
    "In subsequent parts of this book, we focus on individual symbolic execution *techniques*, both for exhaustive and precise SE."
   ]
  },
  {
   "cell_type": "markdown",
   "id": "0ddf1b11-14da-4bf9-a2bf-bc6e0af66d7c",
   "metadata": {},
   "source": [
    "## References\n",
    "\n",
    "```{bibliography}\n",
    ":filter: docname in docnames\n",
    "```\n",
    "\n",
    "[^same-init-state]: We expressed a slightly stricter definition of exhaustiveness than the one given in {cite}`steinhoefel-20*1`. In the original definition, the concrete state $\\sigma'$ may be obtained from concretizing $o$ based on a *different* initial state $\\sigma''$, which allows consistently renaming variables in right-hand sides. Such a behavior is, however, quite unusual in symbolic execution, which is why we chose to simplify the definition. The same holds for the definition of precision.\n",
    "\n",
    "[^simplified-strongly]: In {cite}`steinhoefel-20*1`, the definition is a little more involved, since it takes into account uninterpreted logic constants and functions occurring in assertions, for which a strong version of precision and exhaustiveness is required. We only consider assertions over program variables and interpreted functions (such as addition), and possibly quantified formulas with bound logic variables, which permits to simplify the definition.\n",
    "\n",
    "[^exc-if-found]: We actually found a bug in our symbolic interpreter by testing it using the described methodology. In Python, negative array indices are admissible: `t[-i]`, for positive `i`, is equivalent to `t[len(t)-i`. The symbolic interpreter, however, reported an `IndexError` in a previous version (which is the behavior of `Java`, for instance). By reducing the reported initial state, we quickly discovered the problem. We also discovered a more subtle bug related to Python's semantics: Integer division in Python is a floor division, such that `1 // -2` yields `-1`, while z3 computes `0`. We had to model the Python behavior by replacing `left_val / right_val` by `z3.ToInt(z3.ToReal(left_val) / z3.ToReal(right_val))` in the `handle_binary_operation` method."
   ]
  }
 ],
 "metadata": {
  "kernelspec": {
   "display_name": "Python 3 (ipykernel)",
   "language": "python",
   "name": "python3"
  },
  "language_info": {
   "codemirror_mode": {
    "name": "ipython",
    "version": 3
   },
   "file_extension": ".py",
   "mimetype": "text/x-python",
   "name": "python",
   "nbconvert_exporter": "python",
   "pygments_lexer": "ipython3",
   "version": "3.9.5"
  }
 },
 "nbformat": 4,
 "nbformat_minor": 5
}
