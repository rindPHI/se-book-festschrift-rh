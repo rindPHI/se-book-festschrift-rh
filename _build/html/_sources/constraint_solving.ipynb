{
 "cells": [
  {
   "cell_type": "markdown",
   "id": "c2c992fd-c28f-418c-883a-0518a1714540",
   "metadata": {},
   "source": [
    "# Constraint Solving"
   ]
  },
  {
   "cell_type": "markdown",
   "id": "45e39837-230f-44c2-8436-76a3dfe524a7",
   "metadata": {},
   "source": [
    "```{admonition} TODO\n",
    "Explain all this. Rationale: We use z3 (and its Python bindings) for constraint solving if it works. However, z3 is not good with nonlinear integer arithmetic and mixed sequence/integer constraints, which is why we implement a bridge to the KeY solver: Translation form z3py expressions to KeY problem file definitions and a interface class to KeY.\n",
    "```"
   ]
  },
  {
   "cell_type": "code",
   "execution_count": 2,
   "id": "f44fa77e-5627-4bd8-a452-9abdf16e414a",
   "metadata": {},
   "outputs": [],
   "source": [
    "import collections.abc\n",
    "import random\n",
    "import typing\n",
    "from typing import Union\n",
    "import z3"
   ]
  },
  {
   "cell_type": "code",
   "execution_count": 4,
   "id": "11a679d6-6bc1-4a91-a88c-db05f33b7711",
   "metadata": {},
   "outputs": [],
   "source": [
    "def check_z3(formula: Union[z3.BoolRef, typing.Iterable[z3.BoolRef]], timeout_ms=600, tries=50) -> z3.CheckSatResult:\n",
    "    if not tries:\n",
    "        return z3.unknown\n",
    "\n",
    "    if isinstance(formula, collections.abc.Iterable):\n",
    "        formula = z3_and(*formula)\n",
    "\n",
    "    solver = z3.Solver()\n",
    "    solver.set(\"timeout\", random.randint(150, timeout_ms))\n",
    "    solver.add(formula)\n",
    "    result = solver.check()\n",
    "\n",
    "    if result == z3.unknown:\n",
    "        return check_z3(formula, timeout_ms, tries - 1)\n",
    "\n",
    "    return result\n",
    "\n",
    "\n",
    "def z3_and(*formulas: z3.BoolRef) -> z3.BoolRef:\n",
    "    if len(formulas) == 0:\n",
    "        return z3.BoolVal(True)\n",
    "    elif len(formulas) == 1:\n",
    "        return formulas[0]\n",
    "    else:\n",
    "        return z3.And(*formulas)"
   ]
  },
  {
   "cell_type": "code",
   "execution_count": 3,
   "id": "e5c6082a-86b3-489b-a7da-84728704b6a3",
   "metadata": {},
   "outputs": [
    {
     "data": {
      "text/html": [
       "<b>sat</b>"
      ],
      "text/plain": [
       "sat"
      ]
     },
     "execution_count": 3,
     "metadata": {},
     "output_type": "execute_result"
    }
   ],
   "source": [
    "x, y = z3.Ints(\"x y\")\n",
    "check_z3(z3.And(x > y, y > z3.IntVal(0)))"
   ]
  },
  {
   "cell_type": "code",
   "execution_count": 4,
   "id": "32c79225-f0dd-4db4-9623-325d0a0c0807",
   "metadata": {},
   "outputs": [
    {
     "data": {
      "text/html": [
       "<b>unsat</b>"
      ],
      "text/plain": [
       "unsat"
      ]
     },
     "execution_count": 4,
     "metadata": {},
     "output_type": "execute_result"
    }
   ],
   "source": [
    "x, y = z3.Ints(\"x y\")\n",
    "check_z3(z3.And(x > y, y > z3.IntVal(0), x < z3.IntVal(0)))"
   ]
  },
  {
   "cell_type": "code",
   "execution_count": 5,
   "id": "ca072ab4-61dd-4099-9f9f-fc762420f9be",
   "metadata": {},
   "outputs": [],
   "source": [
    "from typing import Optional"
   ]
  },
  {
   "cell_type": "code",
   "execution_count": 6,
   "id": "ef7d4e79-338f-43d0-89d4-5cbfc80595d8",
   "metadata": {},
   "outputs": [],
   "source": [
    "def z3_sequence(name: str, ctx=None):\n",
    "    ctx = z3.get_ctx(ctx)\n",
    "    elem_sort = z3.IntSort(ctx)\n",
    "    return z3.SeqRef(\n",
    "        z3.Z3_mk_const(ctx.ref(),\n",
    "                       z3.to_symbol(name, ctx),\n",
    "                       z3.SeqSortRef(z3.Z3_mk_seq_sort(elem_sort.ctx_ref(), elem_sort.ast)).ast),\n",
    "        ctx)"
   ]
  },
  {
   "cell_type": "code",
   "execution_count": 7,
   "id": "604cfe16-8965-44d4-8c15-21a0726f7ff7",
   "metadata": {},
   "outputs": [],
   "source": [
    "from typing import Union, List"
   ]
  },
  {
   "cell_type": "code",
   "execution_count": 8,
   "id": "c2351bc9-01ec-456a-aa30-0b55ea2b3fe2",
   "metadata": {},
   "outputs": [],
   "source": [
    "def z3_sequences(names: Union[str, List[str]], ctx=None):\n",
    "    ctx = z3.get_ctx(ctx)\n",
    "    if isinstance(names, str):\n",
    "        names = names.split(\" \")\n",
    "    return [z3_sequence(name, ctx) for name in names]"
   ]
  },
  {
   "cell_type": "code",
   "execution_count": 9,
   "id": "ed592087-909c-4134-a207-60087beaa260",
   "metadata": {},
   "outputs": [
    {
     "data": {
      "text/html": [
       "&forall;seq, n, other_seq :\n",
       " (&exist;idx : Nth(seq, idx) = n &and; 0 &le; idx &and; idx &lt; Length(seq)) &rArr;\n",
       " (&exist;idx : Nth(Concat(seq, other_seq), idx) = n)"
      ],
      "text/plain": [
       "ForAll([seq, n, other_seq],\n",
       "       Implies(Exists(idx,\n",
       "                      And(Nth(seq, idx) == n,\n",
       "                          0 <= idx,\n",
       "                          idx < Length(seq))),\n",
       "               Exists(idx,\n",
       "                      Nth(Concat(seq, other_seq), idx) == n)))"
      ]
     },
     "execution_count": 9,
     "metadata": {},
     "output_type": "execute_result"
    }
   ],
   "source": [
    "n, idx = z3.Ints(\"n idx\")\n",
    "seq, other_seq = z3_sequences(\"seq other_seq\")\n",
    "\n",
    "seq_expansion_preserves_elements = z3.ForAll(\n",
    "    [seq, n, other_seq],\n",
    "    z3.Implies(\n",
    "        z3.Exists(\n",
    "            [idx],\n",
    "            z3.And(\n",
    "                seq[idx] == n,\n",
    "                idx >= z3.IntVal(0),\n",
    "                idx < z3.Length(seq),\n",
    "            )\n",
    "        ),\n",
    "        z3.Exists([idx], (z3.Concat(seq, other_seq))[idx] == n)\n",
    "    )\n",
    ")\n",
    "\n",
    "seq_expansion_preserves_elements"
   ]
  },
  {
   "cell_type": "code",
   "execution_count": 10,
   "id": "b6889c56-fd56-4ad9-a896-1e1a79a71153",
   "metadata": {},
   "outputs": [
    {
     "data": {
      "text/html": [
       "<b>unknown</b>"
      ],
      "text/plain": [
       "unknown"
      ]
     },
     "execution_count": 10,
     "metadata": {},
     "output_type": "execute_result"
    }
   ],
   "source": [
    "check_z3(seq_expansion_preserves_elements)"
   ]
  },
  {
   "cell_type": "code",
   "execution_count": 11,
   "id": "cc953b67-d336-4bc2-835f-82bd858f9f8f",
   "metadata": {},
   "outputs": [
    {
     "data": {
      "text/html": [
       "<b>unsat</b>"
      ],
      "text/plain": [
       "unsat"
      ]
     },
     "execution_count": 11,
     "metadata": {},
     "output_type": "execute_result"
    }
   ],
   "source": [
    "check_z3(z3.Not(seq_expansion_preserves_elements))"
   ]
  },
  {
   "cell_type": "markdown",
   "id": "05bf948e-27cb-4a6a-abb6-4cfcab86977f",
   "metadata": {},
   "source": [
    "```java\n",
    "package de.uka.ilkd.key.core;\n",
    "\n",
    "import de.uka.ilkd.key.proof.Proof;\n",
    "import de.uka.ilkd.key.proof.io.ProblemLoader;\n",
    "import de.uka.ilkd.key.prover.ProverTaskListener;\n",
    "import de.uka.ilkd.key.prover.TaskFinishedInfo;\n",
    "import de.uka.ilkd.key.prover.TaskStartedInfo;\n",
    "import de.uka.ilkd.key.strategy.StrategyProperties;\n",
    "import de.uka.ilkd.key.ui.ConsoleUserInterfaceControl;\n",
    "import de.uka.ilkd.key.ui.Verbosity;\n",
    "import py4j.GatewayServer;\n",
    "\n",
    "import java.io.File;\n",
    "\n",
    "public class KeYPythonGateway {\n",
    "    public String proveProblem(String fileName) {\n",
    "        try {\n",
    "            final ConsoleUserInterfaceControl ui = new ConsoleUserInterfaceControl(Verbosity.HIGH, false);\n",
    "            final SuccessListener successListener = new SuccessListener();\n",
    "            ui.addProverTaskListener(successListener);\n",
    "            final File file = new File(fileName);\n",
    "            ui.loadProblem(file);\n",
    "\n",
    "            return ui.allProofsSuccessful ? \"Success\" : successListener.numOpenGoals + \" open goals\";\n",
    "        } catch (Exception e) {\n",
    "            return \"Exception: \" + e.getMessage();\n",
    "        }\n",
    "    }\n",
    "\n",
    "    public static void main(String[] args) {\n",
    "        final KeYPythonGateway gateway = new KeYPythonGateway();\n",
    "        final GatewayServer server = new GatewayServer(gateway);\n",
    "        server.start();\n",
    "        System.out.println(\"KeY-Python gateway is running...\");\n",
    "    }\n",
    "\n",
    "    private static class SuccessListener implements ProverTaskListener {\n",
    "        private int numOpenGoals = 0;\n",
    "\n",
    "        @Override\n",
    "        public void taskStarted(TaskStartedInfo info) {\n",
    "        }\n",
    "\n",
    "        @Override\n",
    "        public void taskProgress(int position) {\n",
    "        }\n",
    "\n",
    "        @Override\n",
    "        public void taskFinished(TaskFinishedInfo info) {\n",
    "            final Proof proof = info.getProof();\n",
    "            if (info.getSource() instanceof ProblemLoader) {\n",
    "                if (info.getResult() instanceof RuntimeException) {\n",
    "                    throw (RuntimeException) info.getResult();\n",
    "                }\n",
    "\n",
    "                final StrategyProperties sp = proof.getSettings().getStrategySettings().getActiveStrategyProperties();\n",
    "                sp.setProperty(StrategyProperties.NON_LIN_ARITH_OPTIONS_KEY, StrategyProperties.NON_LIN_ARITH_DEF_OPS);\n",
    "            } else {\n",
    "                numOpenGoals = proof.openGoals().size();\n",
    "            }\n",
    "        }\n",
    "    }\n",
    "}\n",
    "```"
   ]
  },
  {
   "cell_type": "code",
   "execution_count": 12,
   "id": "132c970c-6b1f-4db1-b6d9-245c6e74726f",
   "metadata": {},
   "outputs": [],
   "source": [
    "from py4j.java_gateway import JavaObject, JavaGateway\n",
    "import tempfile"
   ]
  },
  {
   "cell_type": "code",
   "execution_count": 13,
   "id": "cd3cff6f-e7fa-43c8-8b4d-2764ec98b23b",
   "metadata": {},
   "outputs": [],
   "source": [
    "#% EXPORT\n",
    "key_prover: Optional[JavaObject] = None"
   ]
  },
  {
   "cell_type": "code",
   "execution_count": 14,
   "id": "cec61993-8a2e-481f-84ca-fd6b7b334817",
   "metadata": {},
   "outputs": [],
   "source": [
    "def is_unsat_key(formula: Union[z3.BoolRef, typing.Iterable[z3.BoolRef]]) -> bool:\n",
    "    if isinstance(formula, collections.abc.Iterable):\n",
    "        formula = z3_and(*formula)\n",
    "\n",
    "    global key_prover\n",
    "    if key_prover is None:\n",
    "        key_prover = JavaGateway().entry_point\n",
    "\n",
    "    constants = [\n",
    "        sub for sub in visit_z3_expr(formula)\n",
    "        if z3.is_const(sub) and sub.decl().kind() == z3.Z3_OP_UNINTERPRETED\n",
    "    ]\n",
    "\n",
    "    key_file_content = \"\"\n",
    "\n",
    "    if constants:\n",
    "        key_file_content += \"\\\\functions {\\n\"\n",
    "        key_file_content += \"\\n\".join([\n",
    "            \"    \" + (\"int\" if isinstance(constant, z3.ArithRef) else \"Seq\") + f\" {str(constant).replace('!', '_')};\"\n",
    "            for constant in constants])\n",
    "        key_file_content += \"\\n}\\n\\n\"\n",
    "\n",
    "    key_file_content += \"\\\\problem{\\n    \"\n",
    "    key_file_content += z3_to_key(z3.Not(formula))\n",
    "    key_file_content += \"\\n}\"\n",
    "\n",
    "    tmp_file = tempfile.NamedTemporaryFile(mode=\"w\", suffix=\".key\", delete=False)\n",
    "    tmp_file_name = tmp_file.name\n",
    "\n",
    "    with open(tmp_file_name, mode=\"w\") as f:\n",
    "        f.write(key_file_content)\n",
    "\n",
    "    key_result: str = key_prover.proveProblem(tmp_file_name)\n",
    "\n",
    "    return key_result == \"Success\""
   ]
  },
  {
   "cell_type": "code",
   "execution_count": 15,
   "id": "1dba8262-fa3d-4252-b1b2-e35226cbd132",
   "metadata": {},
   "outputs": [],
   "source": [
    "from typing import Dict, Generator"
   ]
  },
  {
   "cell_type": "code",
   "execution_count": 16,
   "id": "c9fe53a1-007c-424d-b2fa-b4ecb727652e",
   "metadata": {},
   "outputs": [],
   "source": [
    "def visit_z3_expr(e: Union[z3.ExprRef, z3.QuantifierRef],\n",
    "                  seen: Optional[Dict[z3.ExprRef, bool]] = None) -> \\\n",
    "        Generator[z3.ExprRef, None, None]:\n",
    "    if seen is None:\n",
    "        seen = {}\n",
    "    elif e in seen:\n",
    "        return\n",
    "\n",
    "    seen[e] = True\n",
    "    yield e\n",
    "\n",
    "    if z3.is_app(e):\n",
    "        for ch in e.children():\n",
    "            for e in visit_z3_expr(ch, seen):\n",
    "                yield e\n",
    "        return\n",
    "\n",
    "    if z3.is_quantifier(e):\n",
    "        for e in visit_z3_expr(e.body(), seen):\n",
    "            yield e\n",
    "        return"
   ]
  },
  {
   "cell_type": "code",
   "execution_count": 17,
   "id": "ab660ecf-7849-4fc3-aae9-8992b7d47cf2",
   "metadata": {},
   "outputs": [],
   "source": [
    "from typing import Tuple"
   ]
  },
  {
   "cell_type": "code",
   "execution_count": 18,
   "id": "c40807c6-a200-40d4-9440-6736db2b15be",
   "metadata": {},
   "outputs": [],
   "source": [
    "def z3_to_key(expr: z3.ExprRef, variables: Tuple[str, ...] = ()) -> str:\n",
    "    if z3.is_var(expr):\n",
    "        return variables[len(variables) - z3.get_var_index(expr) - 1]\n",
    "\n",
    "    if z3.is_const(expr):\n",
    "        if expr.decl().kind() == z3.Z3_OP_UNINTERPRETED or isinstance(expr, z3.ArithRef):\n",
    "            return str(expr).replace(\"!\", \"_\")\n",
    "        elif isinstance(expr, z3.BoolRef):\n",
    "            return \"true\" if z3.is_true(expr) else \"false\"\n",
    "\n",
    "        raise NotImplementedError(f\"Translation for constant {expr} not implemented.\")\n",
    "\n",
    "    if z3.is_quantifier(expr):\n",
    "        expr: z3.QuantifierRef\n",
    "\n",
    "        result = \"\"\n",
    "\n",
    "        for i in range(expr.num_vars()):\n",
    "            result += \"(\" + (\"\\\\forall\" if expr.is_forall() else \"\\\\exists\") + \" \"\n",
    "            result += \"int\" if isinstance(expr.var_sort(i), z3.ArithSortRef) else \"Seq\"\n",
    "            result += \" \"\n",
    "            result += expr.var_name(i)\n",
    "            result += \"; \"\n",
    "\n",
    "            variables += (expr.var_name(i),)\n",
    "\n",
    "        assert len(expr.children()) == 1\n",
    "        result += z3_to_key(expr.children()[0], variables)\n",
    "\n",
    "        for _ in range(expr.num_vars()):\n",
    "            result += \")\"\n",
    "\n",
    "        return result\n",
    "\n",
    "    expr.decl().kind()\n",
    "\n",
    "    assert z3.is_app(expr)\n",
    "\n",
    "    if expr.decl().kind() == z3.Z3_OP_AND:\n",
    "        return \"(\" + \" & \".join(map(lambda c: z3_to_key(c, variables), expr.children())) + \")\"\n",
    "    elif expr.decl().kind() == z3.Z3_OP_OR:\n",
    "        return \"(\" + \" | \".join(map(lambda c: z3_to_key(c, variables), expr.children())) + \")\"\n",
    "    elif expr.decl().kind() == z3.Z3_OP_IMPLIES:\n",
    "        return f\"({z3_to_key(expr.children()[0], variables)} -> {z3_to_key(expr.children()[1], variables)})\"\n",
    "    elif expr.decl().kind() == z3.Z3_OP_NOT:\n",
    "        return \"!(\" + z3_to_key(expr.children()[0], variables) + \")\"\n",
    "    elif expr.decl().kind() == z3.Z3_OP_DIV or expr.decl().kind() == z3.Z3_OP_IDIV:\n",
    "        return f\"jdiv({z3_to_key(expr.children()[0], variables)}, {z3_to_key(expr.children()[1], variables)})\"\n",
    "    elif expr.decl().kind() == z3.Z3_OP_MOD:\n",
    "        return f\"jmod({z3_to_key(expr.children()[0], variables)}, {z3_to_key(expr.children()[1], variables)})\"\n",
    "    elif expr.decl().kind() in [\n",
    "        z3.Z3_OP_LE, z3.Z3_OP_LT, z3.Z3_OP_GE, z3.Z3_OP_GT,\n",
    "        z3.Z3_OP_ADD, z3.Z3_OP_UMINUS, z3.Z3_OP_MUL]:\n",
    "        return (z3_to_key(expr.children()[0], variables) +\n",
    "                f\" {str(expr.decl())} \" +\n",
    "                z3_to_key(expr.children()[1], variables))\n",
    "    elif expr.decl().kind() == z3.Z3_OP_EQ:\n",
    "        operator = \"<->\" if isinstance(expr.children()[0], z3.BoolRef) else \"=\"\n",
    "        return f\"({z3_to_key(expr.children()[0], variables)} {operator} {z3_to_key(expr.children()[1], variables)})\"\n",
    "    elif expr.decl().kind() == z3.Z3_OP_SEQ_LENGTH:\n",
    "        return f\"seqLen({z3_to_key(expr.children()[0], variables)})\"\n",
    "    elif expr.decl().kind() == z3.Z3_OP_ITE:\n",
    "        return f\"\\\\if ({z3_to_key(expr.children()[0], variables)}) \" \\\n",
    "               f\"\\\\then ({z3_to_key(expr.children()[1], variables)}) \" \\\n",
    "               f\"\\\\else ({z3_to_key(expr.children()[2], variables)})\"\n",
    "    elif str(expr.decl()) == \"seq.nth_i\" or str(expr.decl()) == \"seq.nth_u\" or expr.decl().kind() == z3.Z3_OP_SEQ_NTH:\n",
    "        return f\"int::seqGet({z3_to_key(expr.children()[0], variables)}, {z3_to_key(expr.children()[1], variables)})\"\n",
    "    elif expr.decl().kind() == z3.Z3_OP_SEQ_CONCAT:\n",
    "        assert len(expr.children()) == 2\n",
    "        return f\"seqConcat({z3_to_key(expr.children()[0], variables)}, {z3_to_key(expr.children()[1], variables)})\"\n",
    "    elif expr.decl().kind() == z3.Z3_OP_SEQ_EXTRACT:\n",
    "        return f\"seqSub({z3_to_key(expr.children()[0], variables)}, \" \\\n",
    "               f\"{z3_to_key(expr.children()[1], variables)}, \" \\\n",
    "               f\"({z3_to_key(expr.children()[1], variables)} + {z3_to_key(expr.children()[2], variables)}))\"\n",
    "    elif expr.decl().kind() == z3.Z3_OP_SEQ_UNIT:\n",
    "        return f\"seqSingleton({z3_to_key(expr.children()[0], variables)})\"\n",
    "    elif expr.decl().kind() == z3.Z3_OP_TO_REAL:\n",
    "        # (See Z3_OP_TO_INT)\n",
    "        return z3_to_key(expr.children()[0], variables)\n",
    "    elif expr.decl().kind() == z3.Z3_OP_TO_INT:\n",
    "        # Hack: The SE engine transforms \"x // y\" into \"ToInt(ToReal(x) / ToReal(y))\" to model\n",
    "        #       Python's floor division semantics. For KeY, we have to handle this differently:\n",
    "        #       It gets \"\\if (x / y >= 0 | x % y == 0) \\then (x / y) \\else (x / y - 1)\".\n",
    "        assert expr.children()[0].decl().kind() == z3.Z3_OP_DIV\n",
    "\n",
    "        x = z3_to_key(expr.children()[0].children()[0].children()[0], variables)\n",
    "        y = z3_to_key(expr.children()[0].children()[1].children()[0], variables)\n",
    "\n",
    "        x_div_y = f\"jdiv({x}, {y})\"\n",
    "        x_mod_y = f\"jmod({x}, {y})\"\n",
    "\n",
    "        return f\"(\\\\if ({x} >= 0 & {y} >= 0 | {x} < 0 & {y} < 0 | \" \\\n",
    "               f\"{x_mod_y} = 0) \\\\then ({x_div_y}) \\\\else ({x_div_y} - 1))\"\n",
    "\n",
    "    raise NotImplementedError(f\"Translation for application {expr} not implemented.\")"
   ]
  },
  {
   "cell_type": "code",
   "execution_count": 19,
   "id": "4bd9f5c0-f47e-49a1-ab54-b1310e61304c",
   "metadata": {},
   "outputs": [
    {
     "data": {
      "text/plain": [
       "'(\\\\forall Seq seq; (\\\\forall int n; (\\\\forall Seq other_seq; ((\\\\exists int idx; ((int::seqGet(seq, idx) = n) & 0 <= idx & idx < seqLen(seq))) -> (\\\\exists int idx; (int::seqGet(seqConcat(seq, other_seq), idx) = n))))))'"
      ]
     },
     "execution_count": 19,
     "metadata": {},
     "output_type": "execute_result"
    }
   ],
   "source": [
    "z3_to_key(seq_expansion_preserves_elements)"
   ]
  },
  {
   "cell_type": "code",
   "execution_count": 20,
   "id": "1bb19bd5-d222-4e55-a233-733c24cc1cec",
   "metadata": {},
   "outputs": [
    {
     "data": {
      "text/plain": [
       "True"
      ]
     },
     "execution_count": 20,
     "metadata": {},
     "output_type": "execute_result"
    }
   ],
   "source": [
    "is_unsat_key(z3.Not(seq_expansion_preserves_elements))"
   ]
  },
  {
   "cell_type": "code",
   "execution_count": 21,
   "id": "26599ed4-b2e9-4012-bf72-26d315d0d7f8",
   "metadata": {},
   "outputs": [
    {
     "data": {
      "text/plain": [
       "False"
      ]
     },
     "execution_count": 21,
     "metadata": {},
     "output_type": "execute_result"
    }
   ],
   "source": [
    "is_unsat_key(seq_expansion_preserves_elements)"
   ]
  },
  {
   "cell_type": "code",
   "execution_count": 22,
   "id": "f6e58e3c-3783-4b6b-8d9e-fbcdd7d49e0f",
   "metadata": {},
   "outputs": [],
   "source": [
    "def is_unsat(formula: z3.BoolRef, timeout_ms=500) -> bool:\n",
    "    if z3.is_true(formula):\n",
    "        return False\n",
    "    if z3.is_false(formula):\n",
    "        return True\n",
    "\n",
    "    z3_result = check_z3(formula, timeout_ms=timeout_ms)\n",
    "\n",
    "    if z3_result != z3.unknown:\n",
    "        return z3_result == z3.unsat\n",
    "\n",
    "    return is_unsat_key(formula)"
   ]
  },
  {
   "cell_type": "code",
   "execution_count": 23,
   "id": "543b0e71-1288-4885-bf86-9b4fcdeb7388",
   "metadata": {},
   "outputs": [
    {
     "data": {
      "text/plain": [
       "True"
      ]
     },
     "execution_count": 23,
     "metadata": {},
     "output_type": "execute_result"
    }
   ],
   "source": [
    "is_unsat(z3.Not(seq_expansion_preserves_elements))"
   ]
  },
  {
   "cell_type": "code",
   "execution_count": 24,
   "id": "a2e513d3-5c10-44ed-947d-36bd4a8f8b9d",
   "metadata": {},
   "outputs": [
    {
     "data": {
      "text/plain": [
       "True"
      ]
     },
     "execution_count": 24,
     "metadata": {},
     "output_type": "execute_result"
    }
   ],
   "source": [
    "is_unsat(z3.And(x > y, y > z3.IntVal(0), x < z3.IntVal(0)))"
   ]
  }
 ],
 "metadata": {
  "kernelspec": {
   "display_name": "Python 3 (ipykernel)",
   "language": "python",
   "name": "python3"
  },
  "language_info": {
   "codemirror_mode": {
    "name": "ipython",
    "version": 3
   },
   "file_extension": ".py",
   "mimetype": "text/x-python",
   "name": "python",
   "nbconvert_exporter": "python",
   "pygments_lexer": "ipython3",
   "version": "3.9.5"
  }
 },
 "nbformat": 4,
 "nbformat_minor": 5
}
