{
 "cells": [
  {
   "cell_type": "markdown",
   "id": "9469a5ee-cae7-40c7-b0df-e7e9ab488e49",
   "metadata": {},
   "source": [
    "(techniques:transparent_function_execution)=\n",
    "# Transparent Symbolic Execution of Function Calls "
   ]
  }
 ],
 "metadata": {
  "kernelspec": {
   "display_name": "Python 3 (ipykernel)",
   "language": "python",
   "name": "python3"
  },
  "language_info": {
   "codemirror_mode": {
    "name": "ipython",
    "version": 3
   },
   "file_extension": ".py",
   "mimetype": "text/x-python",
   "name": "python",
   "nbconvert_exporter": "python",
   "pygments_lexer": "ipython3",
   "version": "3.9.5"
  }
 },
 "nbformat": 4,
 "nbformat_minor": 5
}
